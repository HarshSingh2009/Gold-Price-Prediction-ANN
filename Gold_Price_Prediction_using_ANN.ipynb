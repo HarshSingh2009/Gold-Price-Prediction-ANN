{
  "nbformat": 4,
  "nbformat_minor": 0,
  "metadata": {
    "colab": {
      "provenance": [],
      "gpuType": "T4"
    },
    "kernelspec": {
      "name": "python3",
      "display_name": "Python 3"
    },
    "language_info": {
      "name": "python"
    },
    "accelerator": "GPU"
  },
  "cells": [
    {
      "cell_type": "markdown",
      "source": [
        "## **Gold Price Prediction**\n",
        "In this project we are going to predict the price of the gold using our ```Artificial Neural Networks```\n",
        "* We are going to use a dataset from ```kaggle```"
      ],
      "metadata": {
        "id": "VcRQQ05LWJlW"
      }
    },
    {
      "cell_type": "code",
      "source": [
        "import numpy as np\n",
        "import pandas as pd\n",
        "import matplotlib.pyplot as plt\n",
        "import seaborn as sns\n",
        "import tensorflow as tf"
      ],
      "metadata": {
        "id": "-dJ8BzkwY6xP"
      },
      "execution_count": 1,
      "outputs": []
    },
    {
      "cell_type": "markdown",
      "source": [
        "## Loading Data"
      ],
      "metadata": {
        "id": "KIsGYd2vYGhd"
      }
    },
    {
      "cell_type": "code",
      "source": [
        "!mkdir -p /root/.kaggle\n",
        "!cp kaggle.json /root/.kaggle"
      ],
      "metadata": {
        "id": "yoQWagnAY3Bn"
      },
      "execution_count": 2,
      "outputs": []
    },
    {
      "cell_type": "code",
      "source": [
        "!kaggle datasets download -d altruistdelhite04/gold-price-data"
      ],
      "metadata": {
        "colab": {
          "base_uri": "https://localhost:8080/"
        },
        "id": "L_kalryVY3bX",
        "outputId": "b0dd4146-11bf-4b05-cd95-dc610cdc2309"
      },
      "execution_count": 3,
      "outputs": [
        {
          "output_type": "stream",
          "name": "stdout",
          "text": [
            "Warning: Your Kaggle API key is readable by other users on this system! To fix this, you can run 'chmod 600 /root/.kaggle/kaggle.json'\n",
            "gold-price-data.zip: Skipping, found more recently modified local copy (use --force to force download)\n"
          ]
        }
      ]
    },
    {
      "cell_type": "code",
      "source": [
        "import zipfile\n",
        "zip_ref = zipfile.ZipFile('/content/gold-price-data.zip', 'r')\n",
        "zip_ref.extractall('/content')\n",
        "zip_ref.close()"
      ],
      "metadata": {
        "id": "yDa6Tw63Y3D0"
      },
      "execution_count": 4,
      "outputs": []
    },
    {
      "cell_type": "code",
      "source": [
        "df = pd.read_csv('gld_price_data.csv')"
      ],
      "metadata": {
        "id": "cQqs1eKOZhPv"
      },
      "execution_count": 5,
      "outputs": []
    },
    {
      "cell_type": "code",
      "source": [
        "df.head()"
      ],
      "metadata": {
        "colab": {
          "base_uri": "https://localhost:8080/",
          "height": 206
        },
        "id": "Gp_9onDIZp6k",
        "outputId": "3a990395-2607-4734-b8c1-6325c5d9b27e"
      },
      "execution_count": 6,
      "outputs": [
        {
          "output_type": "execute_result",
          "data": {
            "text/plain": [
              "       Date          SPX        GLD        USO     SLV   EUR/USD\n",
              "0  1/2/2008  1447.160034  84.860001  78.470001  15.180  1.471692\n",
              "1  1/3/2008  1447.160034  85.570000  78.370003  15.285  1.474491\n",
              "2  1/4/2008  1411.630005  85.129997  77.309998  15.167  1.475492\n",
              "3  1/7/2008  1416.180054  84.769997  75.500000  15.053  1.468299\n",
              "4  1/8/2008  1390.189941  86.779999  76.059998  15.590  1.557099"
            ],
            "text/html": [
              "\n",
              "\n",
              "  <div id=\"df-77289402-97f7-483d-b10e-01e9db322133\">\n",
              "    <div class=\"colab-df-container\">\n",
              "      <div>\n",
              "<style scoped>\n",
              "    .dataframe tbody tr th:only-of-type {\n",
              "        vertical-align: middle;\n",
              "    }\n",
              "\n",
              "    .dataframe tbody tr th {\n",
              "        vertical-align: top;\n",
              "    }\n",
              "\n",
              "    .dataframe thead th {\n",
              "        text-align: right;\n",
              "    }\n",
              "</style>\n",
              "<table border=\"1\" class=\"dataframe\">\n",
              "  <thead>\n",
              "    <tr style=\"text-align: right;\">\n",
              "      <th></th>\n",
              "      <th>Date</th>\n",
              "      <th>SPX</th>\n",
              "      <th>GLD</th>\n",
              "      <th>USO</th>\n",
              "      <th>SLV</th>\n",
              "      <th>EUR/USD</th>\n",
              "    </tr>\n",
              "  </thead>\n",
              "  <tbody>\n",
              "    <tr>\n",
              "      <th>0</th>\n",
              "      <td>1/2/2008</td>\n",
              "      <td>1447.160034</td>\n",
              "      <td>84.860001</td>\n",
              "      <td>78.470001</td>\n",
              "      <td>15.180</td>\n",
              "      <td>1.471692</td>\n",
              "    </tr>\n",
              "    <tr>\n",
              "      <th>1</th>\n",
              "      <td>1/3/2008</td>\n",
              "      <td>1447.160034</td>\n",
              "      <td>85.570000</td>\n",
              "      <td>78.370003</td>\n",
              "      <td>15.285</td>\n",
              "      <td>1.474491</td>\n",
              "    </tr>\n",
              "    <tr>\n",
              "      <th>2</th>\n",
              "      <td>1/4/2008</td>\n",
              "      <td>1411.630005</td>\n",
              "      <td>85.129997</td>\n",
              "      <td>77.309998</td>\n",
              "      <td>15.167</td>\n",
              "      <td>1.475492</td>\n",
              "    </tr>\n",
              "    <tr>\n",
              "      <th>3</th>\n",
              "      <td>1/7/2008</td>\n",
              "      <td>1416.180054</td>\n",
              "      <td>84.769997</td>\n",
              "      <td>75.500000</td>\n",
              "      <td>15.053</td>\n",
              "      <td>1.468299</td>\n",
              "    </tr>\n",
              "    <tr>\n",
              "      <th>4</th>\n",
              "      <td>1/8/2008</td>\n",
              "      <td>1390.189941</td>\n",
              "      <td>86.779999</td>\n",
              "      <td>76.059998</td>\n",
              "      <td>15.590</td>\n",
              "      <td>1.557099</td>\n",
              "    </tr>\n",
              "  </tbody>\n",
              "</table>\n",
              "</div>\n",
              "      <button class=\"colab-df-convert\" onclick=\"convertToInteractive('df-77289402-97f7-483d-b10e-01e9db322133')\"\n",
              "              title=\"Convert this dataframe to an interactive table.\"\n",
              "              style=\"display:none;\">\n",
              "\n",
              "  <svg xmlns=\"http://www.w3.org/2000/svg\" height=\"24px\"viewBox=\"0 0 24 24\"\n",
              "       width=\"24px\">\n",
              "    <path d=\"M0 0h24v24H0V0z\" fill=\"none\"/>\n",
              "    <path d=\"M18.56 5.44l.94 2.06.94-2.06 2.06-.94-2.06-.94-.94-2.06-.94 2.06-2.06.94zm-11 1L8.5 8.5l.94-2.06 2.06-.94-2.06-.94L8.5 2.5l-.94 2.06-2.06.94zm10 10l.94 2.06.94-2.06 2.06-.94-2.06-.94-.94-2.06-.94 2.06-2.06.94z\"/><path d=\"M17.41 7.96l-1.37-1.37c-.4-.4-.92-.59-1.43-.59-.52 0-1.04.2-1.43.59L10.3 9.45l-7.72 7.72c-.78.78-.78 2.05 0 2.83L4 21.41c.39.39.9.59 1.41.59.51 0 1.02-.2 1.41-.59l7.78-7.78 2.81-2.81c.8-.78.8-2.07 0-2.86zM5.41 20L4 18.59l7.72-7.72 1.47 1.35L5.41 20z\"/>\n",
              "  </svg>\n",
              "      </button>\n",
              "\n",
              "\n",
              "\n",
              "    <div id=\"df-c4d219b4-6848-4def-90df-7d23061c04a4\">\n",
              "      <button class=\"colab-df-quickchart\" onclick=\"quickchart('df-c4d219b4-6848-4def-90df-7d23061c04a4')\"\n",
              "              title=\"Suggest charts.\"\n",
              "              style=\"display:none;\">\n",
              "\n",
              "<svg xmlns=\"http://www.w3.org/2000/svg\" height=\"24px\"viewBox=\"0 0 24 24\"\n",
              "     width=\"24px\">\n",
              "    <g>\n",
              "        <path d=\"M19 3H5c-1.1 0-2 .9-2 2v14c0 1.1.9 2 2 2h14c1.1 0 2-.9 2-2V5c0-1.1-.9-2-2-2zM9 17H7v-7h2v7zm4 0h-2V7h2v10zm4 0h-2v-4h2v4z\"/>\n",
              "    </g>\n",
              "</svg>\n",
              "      </button>\n",
              "    </div>\n",
              "\n",
              "<style>\n",
              "  .colab-df-quickchart {\n",
              "    background-color: #E8F0FE;\n",
              "    border: none;\n",
              "    border-radius: 50%;\n",
              "    cursor: pointer;\n",
              "    display: none;\n",
              "    fill: #1967D2;\n",
              "    height: 32px;\n",
              "    padding: 0 0 0 0;\n",
              "    width: 32px;\n",
              "  }\n",
              "\n",
              "  .colab-df-quickchart:hover {\n",
              "    background-color: #E2EBFA;\n",
              "    box-shadow: 0px 1px 2px rgba(60, 64, 67, 0.3), 0px 1px 3px 1px rgba(60, 64, 67, 0.15);\n",
              "    fill: #174EA6;\n",
              "  }\n",
              "\n",
              "  [theme=dark] .colab-df-quickchart {\n",
              "    background-color: #3B4455;\n",
              "    fill: #D2E3FC;\n",
              "  }\n",
              "\n",
              "  [theme=dark] .colab-df-quickchart:hover {\n",
              "    background-color: #434B5C;\n",
              "    box-shadow: 0px 1px 3px 1px rgba(0, 0, 0, 0.15);\n",
              "    filter: drop-shadow(0px 1px 2px rgba(0, 0, 0, 0.3));\n",
              "    fill: #FFFFFF;\n",
              "  }\n",
              "</style>\n",
              "\n",
              "    <script>\n",
              "      async function quickchart(key) {\n",
              "        const containerElement = document.querySelector('#' + key);\n",
              "        const charts = await google.colab.kernel.invokeFunction(\n",
              "            'suggestCharts', [key], {});\n",
              "      }\n",
              "    </script>\n",
              "\n",
              "      <script>\n",
              "\n",
              "function displayQuickchartButton(domScope) {\n",
              "  let quickchartButtonEl =\n",
              "    domScope.querySelector('#df-c4d219b4-6848-4def-90df-7d23061c04a4 button.colab-df-quickchart');\n",
              "  quickchartButtonEl.style.display =\n",
              "    google.colab.kernel.accessAllowed ? 'block' : 'none';\n",
              "}\n",
              "\n",
              "        displayQuickchartButton(document);\n",
              "      </script>\n",
              "      <style>\n",
              "    .colab-df-container {\n",
              "      display:flex;\n",
              "      flex-wrap:wrap;\n",
              "      gap: 12px;\n",
              "    }\n",
              "\n",
              "    .colab-df-convert {\n",
              "      background-color: #E8F0FE;\n",
              "      border: none;\n",
              "      border-radius: 50%;\n",
              "      cursor: pointer;\n",
              "      display: none;\n",
              "      fill: #1967D2;\n",
              "      height: 32px;\n",
              "      padding: 0 0 0 0;\n",
              "      width: 32px;\n",
              "    }\n",
              "\n",
              "    .colab-df-convert:hover {\n",
              "      background-color: #E2EBFA;\n",
              "      box-shadow: 0px 1px 2px rgba(60, 64, 67, 0.3), 0px 1px 3px 1px rgba(60, 64, 67, 0.15);\n",
              "      fill: #174EA6;\n",
              "    }\n",
              "\n",
              "    [theme=dark] .colab-df-convert {\n",
              "      background-color: #3B4455;\n",
              "      fill: #D2E3FC;\n",
              "    }\n",
              "\n",
              "    [theme=dark] .colab-df-convert:hover {\n",
              "      background-color: #434B5C;\n",
              "      box-shadow: 0px 1px 3px 1px rgba(0, 0, 0, 0.15);\n",
              "      filter: drop-shadow(0px 1px 2px rgba(0, 0, 0, 0.3));\n",
              "      fill: #FFFFFF;\n",
              "    }\n",
              "  </style>\n",
              "\n",
              "      <script>\n",
              "        const buttonEl =\n",
              "          document.querySelector('#df-77289402-97f7-483d-b10e-01e9db322133 button.colab-df-convert');\n",
              "        buttonEl.style.display =\n",
              "          google.colab.kernel.accessAllowed ? 'block' : 'none';\n",
              "\n",
              "        async function convertToInteractive(key) {\n",
              "          const element = document.querySelector('#df-77289402-97f7-483d-b10e-01e9db322133');\n",
              "          const dataTable =\n",
              "            await google.colab.kernel.invokeFunction('convertToInteractive',\n",
              "                                                     [key], {});\n",
              "          if (!dataTable) return;\n",
              "\n",
              "          const docLinkHtml = 'Like what you see? Visit the ' +\n",
              "            '<a target=\"_blank\" href=https://colab.research.google.com/notebooks/data_table.ipynb>data table notebook</a>'\n",
              "            + ' to learn more about interactive tables.';\n",
              "          element.innerHTML = '';\n",
              "          dataTable['output_type'] = 'display_data';\n",
              "          await google.colab.output.renderOutput(dataTable, element);\n",
              "          const docLink = document.createElement('div');\n",
              "          docLink.innerHTML = docLinkHtml;\n",
              "          element.appendChild(docLink);\n",
              "        }\n",
              "      </script>\n",
              "    </div>\n",
              "  </div>\n"
            ]
          },
          "metadata": {},
          "execution_count": 6
        }
      ]
    },
    {
      "cell_type": "markdown",
      "source": [
        "## Data Exploratory Analysis and Preprocessing"
      ],
      "metadata": {
        "id": "GJb5X_3EYKvO"
      }
    },
    {
      "cell_type": "code",
      "source": [
        "df.info()"
      ],
      "metadata": {
        "colab": {
          "base_uri": "https://localhost:8080/"
        },
        "id": "PicpeaS1Zfvd",
        "outputId": "a9b2adfd-5d34-49a6-aa79-227f412f1f42"
      },
      "execution_count": 7,
      "outputs": [
        {
          "output_type": "stream",
          "name": "stdout",
          "text": [
            "<class 'pandas.core.frame.DataFrame'>\n",
            "RangeIndex: 2290 entries, 0 to 2289\n",
            "Data columns (total 6 columns):\n",
            " #   Column   Non-Null Count  Dtype  \n",
            "---  ------   --------------  -----  \n",
            " 0   Date     2290 non-null   object \n",
            " 1   SPX      2290 non-null   float64\n",
            " 2   GLD      2290 non-null   float64\n",
            " 3   USO      2290 non-null   float64\n",
            " 4   SLV      2290 non-null   float64\n",
            " 5   EUR/USD  2290 non-null   float64\n",
            "dtypes: float64(5), object(1)\n",
            "memory usage: 107.5+ KB\n"
          ]
        }
      ]
    },
    {
      "cell_type": "code",
      "source": [
        "df.describe()"
      ],
      "metadata": {
        "colab": {
          "base_uri": "https://localhost:8080/",
          "height": 300
        },
        "id": "PKCpGvupZxP0",
        "outputId": "469b5822-41ac-4347-fea5-0110d39e2118"
      },
      "execution_count": 8,
      "outputs": [
        {
          "output_type": "execute_result",
          "data": {
            "text/plain": [
              "               SPX          GLD          USO          SLV      EUR/USD\n",
              "count  2290.000000  2290.000000  2290.000000  2290.000000  2290.000000\n",
              "mean   1654.315776   122.732875    31.842221    20.084997     1.283653\n",
              "std     519.111540    23.283346    19.523517     7.092566     0.131547\n",
              "min     676.530029    70.000000     7.960000     8.850000     1.039047\n",
              "25%    1239.874969   109.725000    14.380000    15.570000     1.171313\n",
              "50%    1551.434998   120.580002    33.869999    17.268500     1.303297\n",
              "75%    2073.010070   132.840004    37.827501    22.882500     1.369971\n",
              "max    2872.870117   184.589996   117.480003    47.259998     1.598798"
            ],
            "text/html": [
              "\n",
              "\n",
              "  <div id=\"df-50514065-3c44-485c-b327-f51c5ce9dd9a\">\n",
              "    <div class=\"colab-df-container\">\n",
              "      <div>\n",
              "<style scoped>\n",
              "    .dataframe tbody tr th:only-of-type {\n",
              "        vertical-align: middle;\n",
              "    }\n",
              "\n",
              "    .dataframe tbody tr th {\n",
              "        vertical-align: top;\n",
              "    }\n",
              "\n",
              "    .dataframe thead th {\n",
              "        text-align: right;\n",
              "    }\n",
              "</style>\n",
              "<table border=\"1\" class=\"dataframe\">\n",
              "  <thead>\n",
              "    <tr style=\"text-align: right;\">\n",
              "      <th></th>\n",
              "      <th>SPX</th>\n",
              "      <th>GLD</th>\n",
              "      <th>USO</th>\n",
              "      <th>SLV</th>\n",
              "      <th>EUR/USD</th>\n",
              "    </tr>\n",
              "  </thead>\n",
              "  <tbody>\n",
              "    <tr>\n",
              "      <th>count</th>\n",
              "      <td>2290.000000</td>\n",
              "      <td>2290.000000</td>\n",
              "      <td>2290.000000</td>\n",
              "      <td>2290.000000</td>\n",
              "      <td>2290.000000</td>\n",
              "    </tr>\n",
              "    <tr>\n",
              "      <th>mean</th>\n",
              "      <td>1654.315776</td>\n",
              "      <td>122.732875</td>\n",
              "      <td>31.842221</td>\n",
              "      <td>20.084997</td>\n",
              "      <td>1.283653</td>\n",
              "    </tr>\n",
              "    <tr>\n",
              "      <th>std</th>\n",
              "      <td>519.111540</td>\n",
              "      <td>23.283346</td>\n",
              "      <td>19.523517</td>\n",
              "      <td>7.092566</td>\n",
              "      <td>0.131547</td>\n",
              "    </tr>\n",
              "    <tr>\n",
              "      <th>min</th>\n",
              "      <td>676.530029</td>\n",
              "      <td>70.000000</td>\n",
              "      <td>7.960000</td>\n",
              "      <td>8.850000</td>\n",
              "      <td>1.039047</td>\n",
              "    </tr>\n",
              "    <tr>\n",
              "      <th>25%</th>\n",
              "      <td>1239.874969</td>\n",
              "      <td>109.725000</td>\n",
              "      <td>14.380000</td>\n",
              "      <td>15.570000</td>\n",
              "      <td>1.171313</td>\n",
              "    </tr>\n",
              "    <tr>\n",
              "      <th>50%</th>\n",
              "      <td>1551.434998</td>\n",
              "      <td>120.580002</td>\n",
              "      <td>33.869999</td>\n",
              "      <td>17.268500</td>\n",
              "      <td>1.303297</td>\n",
              "    </tr>\n",
              "    <tr>\n",
              "      <th>75%</th>\n",
              "      <td>2073.010070</td>\n",
              "      <td>132.840004</td>\n",
              "      <td>37.827501</td>\n",
              "      <td>22.882500</td>\n",
              "      <td>1.369971</td>\n",
              "    </tr>\n",
              "    <tr>\n",
              "      <th>max</th>\n",
              "      <td>2872.870117</td>\n",
              "      <td>184.589996</td>\n",
              "      <td>117.480003</td>\n",
              "      <td>47.259998</td>\n",
              "      <td>1.598798</td>\n",
              "    </tr>\n",
              "  </tbody>\n",
              "</table>\n",
              "</div>\n",
              "      <button class=\"colab-df-convert\" onclick=\"convertToInteractive('df-50514065-3c44-485c-b327-f51c5ce9dd9a')\"\n",
              "              title=\"Convert this dataframe to an interactive table.\"\n",
              "              style=\"display:none;\">\n",
              "\n",
              "  <svg xmlns=\"http://www.w3.org/2000/svg\" height=\"24px\"viewBox=\"0 0 24 24\"\n",
              "       width=\"24px\">\n",
              "    <path d=\"M0 0h24v24H0V0z\" fill=\"none\"/>\n",
              "    <path d=\"M18.56 5.44l.94 2.06.94-2.06 2.06-.94-2.06-.94-.94-2.06-.94 2.06-2.06.94zm-11 1L8.5 8.5l.94-2.06 2.06-.94-2.06-.94L8.5 2.5l-.94 2.06-2.06.94zm10 10l.94 2.06.94-2.06 2.06-.94-2.06-.94-.94-2.06-.94 2.06-2.06.94z\"/><path d=\"M17.41 7.96l-1.37-1.37c-.4-.4-.92-.59-1.43-.59-.52 0-1.04.2-1.43.59L10.3 9.45l-7.72 7.72c-.78.78-.78 2.05 0 2.83L4 21.41c.39.39.9.59 1.41.59.51 0 1.02-.2 1.41-.59l7.78-7.78 2.81-2.81c.8-.78.8-2.07 0-2.86zM5.41 20L4 18.59l7.72-7.72 1.47 1.35L5.41 20z\"/>\n",
              "  </svg>\n",
              "      </button>\n",
              "\n",
              "\n",
              "\n",
              "    <div id=\"df-ac252e30-0793-49a8-999d-1800434ca9d9\">\n",
              "      <button class=\"colab-df-quickchart\" onclick=\"quickchart('df-ac252e30-0793-49a8-999d-1800434ca9d9')\"\n",
              "              title=\"Suggest charts.\"\n",
              "              style=\"display:none;\">\n",
              "\n",
              "<svg xmlns=\"http://www.w3.org/2000/svg\" height=\"24px\"viewBox=\"0 0 24 24\"\n",
              "     width=\"24px\">\n",
              "    <g>\n",
              "        <path d=\"M19 3H5c-1.1 0-2 .9-2 2v14c0 1.1.9 2 2 2h14c1.1 0 2-.9 2-2V5c0-1.1-.9-2-2-2zM9 17H7v-7h2v7zm4 0h-2V7h2v10zm4 0h-2v-4h2v4z\"/>\n",
              "    </g>\n",
              "</svg>\n",
              "      </button>\n",
              "    </div>\n",
              "\n",
              "<style>\n",
              "  .colab-df-quickchart {\n",
              "    background-color: #E8F0FE;\n",
              "    border: none;\n",
              "    border-radius: 50%;\n",
              "    cursor: pointer;\n",
              "    display: none;\n",
              "    fill: #1967D2;\n",
              "    height: 32px;\n",
              "    padding: 0 0 0 0;\n",
              "    width: 32px;\n",
              "  }\n",
              "\n",
              "  .colab-df-quickchart:hover {\n",
              "    background-color: #E2EBFA;\n",
              "    box-shadow: 0px 1px 2px rgba(60, 64, 67, 0.3), 0px 1px 3px 1px rgba(60, 64, 67, 0.15);\n",
              "    fill: #174EA6;\n",
              "  }\n",
              "\n",
              "  [theme=dark] .colab-df-quickchart {\n",
              "    background-color: #3B4455;\n",
              "    fill: #D2E3FC;\n",
              "  }\n",
              "\n",
              "  [theme=dark] .colab-df-quickchart:hover {\n",
              "    background-color: #434B5C;\n",
              "    box-shadow: 0px 1px 3px 1px rgba(0, 0, 0, 0.15);\n",
              "    filter: drop-shadow(0px 1px 2px rgba(0, 0, 0, 0.3));\n",
              "    fill: #FFFFFF;\n",
              "  }\n",
              "</style>\n",
              "\n",
              "    <script>\n",
              "      async function quickchart(key) {\n",
              "        const containerElement = document.querySelector('#' + key);\n",
              "        const charts = await google.colab.kernel.invokeFunction(\n",
              "            'suggestCharts', [key], {});\n",
              "      }\n",
              "    </script>\n",
              "\n",
              "      <script>\n",
              "\n",
              "function displayQuickchartButton(domScope) {\n",
              "  let quickchartButtonEl =\n",
              "    domScope.querySelector('#df-ac252e30-0793-49a8-999d-1800434ca9d9 button.colab-df-quickchart');\n",
              "  quickchartButtonEl.style.display =\n",
              "    google.colab.kernel.accessAllowed ? 'block' : 'none';\n",
              "}\n",
              "\n",
              "        displayQuickchartButton(document);\n",
              "      </script>\n",
              "      <style>\n",
              "    .colab-df-container {\n",
              "      display:flex;\n",
              "      flex-wrap:wrap;\n",
              "      gap: 12px;\n",
              "    }\n",
              "\n",
              "    .colab-df-convert {\n",
              "      background-color: #E8F0FE;\n",
              "      border: none;\n",
              "      border-radius: 50%;\n",
              "      cursor: pointer;\n",
              "      display: none;\n",
              "      fill: #1967D2;\n",
              "      height: 32px;\n",
              "      padding: 0 0 0 0;\n",
              "      width: 32px;\n",
              "    }\n",
              "\n",
              "    .colab-df-convert:hover {\n",
              "      background-color: #E2EBFA;\n",
              "      box-shadow: 0px 1px 2px rgba(60, 64, 67, 0.3), 0px 1px 3px 1px rgba(60, 64, 67, 0.15);\n",
              "      fill: #174EA6;\n",
              "    }\n",
              "\n",
              "    [theme=dark] .colab-df-convert {\n",
              "      background-color: #3B4455;\n",
              "      fill: #D2E3FC;\n",
              "    }\n",
              "\n",
              "    [theme=dark] .colab-df-convert:hover {\n",
              "      background-color: #434B5C;\n",
              "      box-shadow: 0px 1px 3px 1px rgba(0, 0, 0, 0.15);\n",
              "      filter: drop-shadow(0px 1px 2px rgba(0, 0, 0, 0.3));\n",
              "      fill: #FFFFFF;\n",
              "    }\n",
              "  </style>\n",
              "\n",
              "      <script>\n",
              "        const buttonEl =\n",
              "          document.querySelector('#df-50514065-3c44-485c-b327-f51c5ce9dd9a button.colab-df-convert');\n",
              "        buttonEl.style.display =\n",
              "          google.colab.kernel.accessAllowed ? 'block' : 'none';\n",
              "\n",
              "        async function convertToInteractive(key) {\n",
              "          const element = document.querySelector('#df-50514065-3c44-485c-b327-f51c5ce9dd9a');\n",
              "          const dataTable =\n",
              "            await google.colab.kernel.invokeFunction('convertToInteractive',\n",
              "                                                     [key], {});\n",
              "          if (!dataTable) return;\n",
              "\n",
              "          const docLinkHtml = 'Like what you see? Visit the ' +\n",
              "            '<a target=\"_blank\" href=https://colab.research.google.com/notebooks/data_table.ipynb>data table notebook</a>'\n",
              "            + ' to learn more about interactive tables.';\n",
              "          element.innerHTML = '';\n",
              "          dataTable['output_type'] = 'display_data';\n",
              "          await google.colab.output.renderOutput(dataTable, element);\n",
              "          const docLink = document.createElement('div');\n",
              "          docLink.innerHTML = docLinkHtml;\n",
              "          element.appendChild(docLink);\n",
              "        }\n",
              "      </script>\n",
              "    </div>\n",
              "  </div>\n"
            ]
          },
          "metadata": {},
          "execution_count": 8
        }
      ]
    },
    {
      "cell_type": "code",
      "source": [
        "# checking nan values\n",
        "df.isnull().sum()"
      ],
      "metadata": {
        "colab": {
          "base_uri": "https://localhost:8080/"
        },
        "id": "oGJBn4qHafBv",
        "outputId": "7853c726-2964-4aef-baf5-eb08a31fad9a"
      },
      "execution_count": 9,
      "outputs": [
        {
          "output_type": "execute_result",
          "data": {
            "text/plain": [
              "Date       0\n",
              "SPX        0\n",
              "GLD        0\n",
              "USO        0\n",
              "SLV        0\n",
              "EUR/USD    0\n",
              "dtype: int64"
            ]
          },
          "metadata": {},
          "execution_count": 9
        }
      ]
    },
    {
      "cell_type": "code",
      "source": [
        "# checking for duplicates\n",
        "df.duplicated().sum()"
      ],
      "metadata": {
        "colab": {
          "base_uri": "https://localhost:8080/"
        },
        "id": "bQyYe7SoaoS6",
        "outputId": "4a6a9fc5-b0a6-4440-d5b9-357cb956b35f"
      },
      "execution_count": 10,
      "outputs": [
        {
          "output_type": "execute_result",
          "data": {
            "text/plain": [
              "0"
            ]
          },
          "metadata": {},
          "execution_count": 10
        }
      ]
    },
    {
      "cell_type": "code",
      "source": [
        "plt.plot(df.index, df['EUR/USD'])"
      ],
      "metadata": {
        "colab": {
          "base_uri": "https://localhost:8080/",
          "height": 448
        },
        "id": "Muz87mQVZ0Hc",
        "outputId": "d79d48ce-e364-4989-a780-a4bd40ff9d58"
      },
      "execution_count": 11,
      "outputs": [
        {
          "output_type": "execute_result",
          "data": {
            "text/plain": [
              "[<matplotlib.lines.Line2D at 0x7a997427f640>]"
            ]
          },
          "metadata": {},
          "execution_count": 11
        },
        {
          "output_type": "display_data",
          "data": {
            "text/plain": [
              "<Figure size 640x480 with 1 Axes>"
            ],
            "image/png": "[encoded data removed]"
          },
          "metadata": {}
        }
      ]
    },
    {
      "cell_type": "code",
      "source": [
        "sns.distplot(df['GLD'], color='green')"
      ],
      "metadata": {
        "colab": {
          "base_uri": "https://localhost:8080/",
          "height": 668
        },
        "id": "4o3JQRSMcUf1",
        "outputId": "1427bff4-d36d-4563-9481-eccf69d653f1"
      },
      "execution_count": 12,
      "outputs": [
        {
          "output_type": "stream",
          "name": "stderr",
          "text": [
            "<ipython-input-12-702cdebab2f1>:1: UserWarning: \n",
            "\n",
            "`distplot` is a deprecated function and will be removed in seaborn v0.14.0.\n",
            "\n",
            "Please adapt your code to use either `displot` (a figure-level function with\n",
            "similar flexibility) or `histplot` (an axes-level function for histograms).\n",
            "\n",
            "For a guide to updating your code to use the new functions, please see\n",
            "https://gist.github.com/mwaskom/de44147ed2974457ad6372750bbe5751\n",
            "\n",
            "  sns.distplot(df['GLD'], color='green')\n"
          ]
        },
        {
          "output_type": "execute_result",
          "data": {
            "text/plain": [
              "<Axes: xlabel='GLD', ylabel='Density'>"
            ]
          },
          "metadata": {},
          "execution_count": 12
        },
        {
          "output_type": "display_data",
          "data": {
            "text/plain": [
              "<Figure size 640x480 with 1 Axes>"
            ],
            "image/png": "[encoded data removed]"
          },
          "metadata": {}
        }
      ]
    },
    {
      "cell_type": "code",
      "source": [
        "# correlation\n",
        "correlation = df.corr()"
      ],
      "metadata": {
        "colab": {
          "base_uri": "https://localhost:8080/"
        },
        "id": "kDjg7uDJc2ZB",
        "outputId": "03a24133-b587-4c69-8293-9ade7245df60"
      },
      "execution_count": 13,
      "outputs": [
        {
          "output_type": "stream",
          "name": "stderr",
          "text": [
            "<ipython-input-13-f937863b5985>:2: FutureWarning: The default value of numeric_only in DataFrame.corr is deprecated. In a future version, it will default to False. Select only valid columns or specify the value of numeric_only to silence this warning.\n",
            "  correlation = df.corr()\n"
          ]
        }
      ]
    },
    {
      "cell_type": "code",
      "source": [
        "sns.heatmap(correlation, cbar=True, square=True, annot=True, fmt='.1f', annot_kws={'size':8})"
      ],
      "metadata": {
        "colab": {
          "base_uri": "https://localhost:8080/",
          "height": 453
        },
        "id": "DMvRkiL4dTSz",
        "outputId": "6a5c43a7-689c-433f-baa6-e2ed89df9e96"
      },
      "execution_count": 14,
      "outputs": [
        {
          "output_type": "execute_result",
          "data": {
            "text/plain": [
              "<Axes: >"
            ]
          },
          "metadata": {},
          "execution_count": 14
        },
        {
          "output_type": "display_data",
          "data": {
            "text/plain": [
              "<Figure size 640x480 with 2 Axes>"
            ],
            "image/png": "[encoded data removed]"
          },
          "metadata": {}
        }
      ]
    },
    {
      "cell_type": "code",
      "source": [
        "print(correlation)"
      ],
      "metadata": {
        "colab": {
          "base_uri": "https://localhost:8080/"
        },
        "id": "8hQUqVO7eBtD",
        "outputId": "4e4cbf80-8a5c-472d-8e85-b35e9018b88f"
      },
      "execution_count": 15,
      "outputs": [
        {
          "output_type": "stream",
          "name": "stdout",
          "text": [
            "              SPX       GLD       USO       SLV   EUR/USD\n",
            "SPX      1.000000  0.049345 -0.591573 -0.274055 -0.672017\n",
            "GLD      0.049345  1.000000 -0.186360  0.866632 -0.024375\n",
            "USO     -0.591573 -0.186360  1.000000  0.167547  0.829317\n",
            "SLV     -0.274055  0.866632  0.167547  1.000000  0.321631\n",
            "EUR/USD -0.672017 -0.024375  0.829317  0.321631  1.000000\n"
          ]
        }
      ]
    },
    {
      "cell_type": "code",
      "source": [
        "correlation['GLD']"
      ],
      "metadata": {
        "colab": {
          "base_uri": "https://localhost:8080/"
        },
        "id": "35AkWHs-ekLE",
        "outputId": "b51c70a4-c970-49d1-b282-0de678409121"
      },
      "execution_count": 16,
      "outputs": [
        {
          "output_type": "execute_result",
          "data": {
            "text/plain": [
              "SPX        0.049345\n",
              "GLD        1.000000\n",
              "USO       -0.186360\n",
              "SLV        0.866632\n",
              "EUR/USD   -0.024375\n",
              "Name: GLD, dtype: float64"
            ]
          },
          "metadata": {},
          "execution_count": 16
        }
      ]
    },
    {
      "cell_type": "markdown",
      "source": [
        "### Splitting our data in Training and Testing data"
      ],
      "metadata": {
        "id": "10Yhpz4Ra31-"
      }
    },
    {
      "cell_type": "code",
      "source": [
        "X = df.drop(['EUR/USD', 'Date'], axis=1)"
      ],
      "metadata": {
        "id": "NOO32T16Z0Je"
      },
      "execution_count": 17,
      "outputs": []
    },
    {
      "cell_type": "code",
      "source": [
        "y = df['EUR/USD']"
      ],
      "metadata": {
        "id": "tZ1TVZf3bIRU"
      },
      "execution_count": 18,
      "outputs": []
    },
    {
      "cell_type": "code",
      "source": [
        "X"
      ],
      "metadata": {
        "colab": {
          "base_uri": "https://localhost:8080/",
          "height": 424
        },
        "id": "NlglCe3ubITl",
        "outputId": "18031429-b096-49fa-bbab-c43bfacd81cf"
      },
      "execution_count": 19,
      "outputs": [
        {
          "output_type": "execute_result",
          "data": {
            "text/plain": [
              "              SPX         GLD        USO      SLV\n",
              "0     1447.160034   84.860001  78.470001  15.1800\n",
              "1     1447.160034   85.570000  78.370003  15.2850\n",
              "2     1411.630005   85.129997  77.309998  15.1670\n",
              "3     1416.180054   84.769997  75.500000  15.0530\n",
              "4     1390.189941   86.779999  76.059998  15.5900\n",
              "...           ...         ...        ...      ...\n",
              "2285  2671.919922  124.589996  14.060000  15.5100\n",
              "2286  2697.790039  124.330002  14.370000  15.5300\n",
              "2287  2723.070068  125.180000  14.410000  15.7400\n",
              "2288  2730.129883  124.489998  14.380000  15.5600\n",
              "2289  2725.780029  122.543800  14.405800  15.4542\n",
              "\n",
              "[2290 rows x 4 columns]"
            ],
            "text/html": [
              "\n",
              "\n",
              "  <div id=\"df-fadbccd0-2030-497b-a5f9-502e29638f0a\">\n",
              "    <div class=\"colab-df-container\">\n",
              "      <div>\n",
              "<style scoped>\n",
              "    .dataframe tbody tr th:only-of-type {\n",
              "        vertical-align: middle;\n",
              "    }\n",
              "\n",
              "    .dataframe tbody tr th {\n",
              "        vertical-align: top;\n",
              "    }\n",
              "\n",
              "    .dataframe thead th {\n",
              "        text-align: right;\n",
              "    }\n",
              "</style>\n",
              "<table border=\"1\" class=\"dataframe\">\n",
              "  <thead>\n",
              "    <tr style=\"text-align: right;\">\n",
              "      <th></th>\n",
              "      <th>SPX</th>\n",
              "      <th>GLD</th>\n",
              "      <th>USO</th>\n",
              "      <th>SLV</th>\n",
              "    </tr>\n",
              "  </thead>\n",
              "  <tbody>\n",
              "    <tr>\n",
              "      <th>0</th>\n",
              "      <td>1447.160034</td>\n",
              "      <td>84.860001</td>\n",
              "      <td>78.470001</td>\n",
              "      <td>15.1800</td>\n",
              "    </tr>\n",
              "    <tr>\n",
              "      <th>1</th>\n",
              "      <td>1447.160034</td>\n",
              "      <td>85.570000</td>\n",
              "      <td>78.370003</td>\n",
              "      <td>15.2850</td>\n",
              "    </tr>\n",
              "    <tr>\n",
              "      <th>2</th>\n",
              "      <td>1411.630005</td>\n",
              "      <td>85.129997</td>\n",
              "      <td>77.309998</td>\n",
              "      <td>15.1670</td>\n",
              "    </tr>\n",
              "    <tr>\n",
              "      <th>3</th>\n",
              "      <td>1416.180054</td>\n",
              "      <td>84.769997</td>\n",
              "      <td>75.500000</td>\n",
              "      <td>15.0530</td>\n",
              "    </tr>\n",
              "    <tr>\n",
              "      <th>4</th>\n",
              "      <td>1390.189941</td>\n",
              "      <td>86.779999</td>\n",
              "      <td>76.059998</td>\n",
              "      <td>15.5900</td>\n",
              "    </tr>\n",
              "    <tr>\n",
              "      <th>...</th>\n",
              "      <td>...</td>\n",
              "      <td>...</td>\n",
              "      <td>...</td>\n",
              "      <td>...</td>\n",
              "    </tr>\n",
              "    <tr>\n",
              "      <th>2285</th>\n",
              "      <td>2671.919922</td>\n",
              "      <td>124.589996</td>\n",
              "      <td>14.060000</td>\n",
              "      <td>15.5100</td>\n",
              "    </tr>\n",
              "    <tr>\n",
              "      <th>2286</th>\n",
              "      <td>2697.790039</td>\n",
              "      <td>124.330002</td>\n",
              "      <td>14.370000</td>\n",
              "      <td>15.5300</td>\n",
              "    </tr>\n",
              "    <tr>\n",
              "      <th>2287</th>\n",
              "      <td>2723.070068</td>\n",
              "      <td>125.180000</td>\n",
              "      <td>14.410000</td>\n",
              "      <td>15.7400</td>\n",
              "    </tr>\n",
              "    <tr>\n",
              "      <th>2288</th>\n",
              "      <td>2730.129883</td>\n",
              "      <td>124.489998</td>\n",
              "      <td>14.380000</td>\n",
              "      <td>15.5600</td>\n",
              "    </tr>\n",
              "    <tr>\n",
              "      <th>2289</th>\n",
              "      <td>2725.780029</td>\n",
              "      <td>122.543800</td>\n",
              "      <td>14.405800</td>\n",
              "      <td>15.4542</td>\n",
              "    </tr>\n",
              "  </tbody>\n",
              "</table>\n",
              "<p>2290 rows × 4 columns</p>\n",
              "</div>\n",
              "      <button class=\"colab-df-convert\" onclick=\"convertToInteractive('df-fadbccd0-2030-497b-a5f9-502e29638f0a')\"\n",
              "              title=\"Convert this dataframe to an interactive table.\"\n",
              "              style=\"display:none;\">\n",
              "\n",
              "  <svg xmlns=\"http://www.w3.org/2000/svg\" height=\"24px\"viewBox=\"0 0 24 24\"\n",
              "       width=\"24px\">\n",
              "    <path d=\"M0 0h24v24H0V0z\" fill=\"none\"/>\n",
              "    <path d=\"M18.56 5.44l.94 2.06.94-2.06 2.06-.94-2.06-.94-.94-2.06-.94 2.06-2.06.94zm-11 1L8.5 8.5l.94-2.06 2.06-.94-2.06-.94L8.5 2.5l-.94 2.06-2.06.94zm10 10l.94 2.06.94-2.06 2.06-.94-2.06-.94-.94-2.06-.94 2.06-2.06.94z\"/><path d=\"M17.41 7.96l-1.37-1.37c-.4-.4-.92-.59-1.43-.59-.52 0-1.04.2-1.43.59L10.3 9.45l-7.72 7.72c-.78.78-.78 2.05 0 2.83L4 21.41c.39.39.9.59 1.41.59.51 0 1.02-.2 1.41-.59l7.78-7.78 2.81-2.81c.8-.78.8-2.07 0-2.86zM5.41 20L4 18.59l7.72-7.72 1.47 1.35L5.41 20z\"/>\n",
              "  </svg>\n",
              "      </button>\n",
              "\n",
              "\n",
              "\n",
              "    <div id=\"df-4c7312df-6111-4d09-a1ea-5a3ab57bf677\">\n",
              "      <button class=\"colab-df-quickchart\" onclick=\"quickchart('df-4c7312df-6111-4d09-a1ea-5a3ab57bf677')\"\n",
              "              title=\"Suggest charts.\"\n",
              "              style=\"display:none;\">\n",
              "\n",
              "<svg xmlns=\"http://www.w3.org/2000/svg\" height=\"24px\"viewBox=\"0 0 24 24\"\n",
              "     width=\"24px\">\n",
              "    <g>\n",
              "        <path d=\"M19 3H5c-1.1 0-2 .9-2 2v14c0 1.1.9 2 2 2h14c1.1 0 2-.9 2-2V5c0-1.1-.9-2-2-2zM9 17H7v-7h2v7zm4 0h-2V7h2v10zm4 0h-2v-4h2v4z\"/>\n",
              "    </g>\n",
              "</svg>\n",
              "      </button>\n",
              "    </div>\n",
              "\n",
              "<style>\n",
              "  .colab-df-quickchart {\n",
              "    background-color: #E8F0FE;\n",
              "    border: none;\n",
              "    border-radius: 50%;\n",
              "    cursor: pointer;\n",
              "    display: none;\n",
              "    fill: #1967D2;\n",
              "    height: 32px;\n",
              "    padding: 0 0 0 0;\n",
              "    width: 32px;\n",
              "  }\n",
              "\n",
              "  .colab-df-quickchart:hover {\n",
              "    background-color: #E2EBFA;\n",
              "    box-shadow: 0px 1px 2px rgba(60, 64, 67, 0.3), 0px 1px 3px 1px rgba(60, 64, 67, 0.15);\n",
              "    fill: #174EA6;\n",
              "  }\n",
              "\n",
              "  [theme=dark] .colab-df-quickchart {\n",
              "    background-color: #3B4455;\n",
              "    fill: #D2E3FC;\n",
              "  }\n",
              "\n",
              "  [theme=dark] .colab-df-quickchart:hover {\n",
              "    background-color: #434B5C;\n",
              "    box-shadow: 0px 1px 3px 1px rgba(0, 0, 0, 0.15);\n",
              "    filter: drop-shadow(0px 1px 2px rgba(0, 0, 0, 0.3));\n",
              "    fill: #FFFFFF;\n",
              "  }\n",
              "</style>\n",
              "\n",
              "    <script>\n",
              "      async function quickchart(key) {\n",
              "        const containerElement = document.querySelector('#' + key);\n",
              "        const charts = await google.colab.kernel.invokeFunction(\n",
              "            'suggestCharts', [key], {});\n",
              "      }\n",
              "    </script>\n",
              "\n",
              "      <script>\n",
              "\n",
              "function displayQuickchartButton(domScope) {\n",
              "  let quickchartButtonEl =\n",
              "    domScope.querySelector('#df-4c7312df-6111-4d09-a1ea-5a3ab57bf677 button.colab-df-quickchart');\n",
              "  quickchartButtonEl.style.display =\n",
              "    google.colab.kernel.accessAllowed ? 'block' : 'none';\n",
              "}\n",
              "\n",
              "        displayQuickchartButton(document);\n",
              "      </script>\n",
              "      <style>\n",
              "    .colab-df-container {\n",
              "      display:flex;\n",
              "      flex-wrap:wrap;\n",
              "      gap: 12px;\n",
              "    }\n",
              "\n",
              "    .colab-df-convert {\n",
              "      background-color: #E8F0FE;\n",
              "      border: none;\n",
              "      border-radius: 50%;\n",
              "      cursor: pointer;\n",
              "      display: none;\n",
              "      fill: #1967D2;\n",
              "      height: 32px;\n",
              "      padding: 0 0 0 0;\n",
              "      width: 32px;\n",
              "    }\n",
              "\n",
              "    .colab-df-convert:hover {\n",
              "      background-color: #E2EBFA;\n",
              "      box-shadow: 0px 1px 2px rgba(60, 64, 67, 0.3), 0px 1px 3px 1px rgba(60, 64, 67, 0.15);\n",
              "      fill: #174EA6;\n",
              "    }\n",
              "\n",
              "    [theme=dark] .colab-df-convert {\n",
              "      background-color: #3B4455;\n",
              "      fill: #D2E3FC;\n",
              "    }\n",
              "\n",
              "    [theme=dark] .colab-df-convert:hover {\n",
              "      background-color: #434B5C;\n",
              "      box-shadow: 0px 1px 3px 1px rgba(0, 0, 0, 0.15);\n",
              "      filter: drop-shadow(0px 1px 2px rgba(0, 0, 0, 0.3));\n",
              "      fill: #FFFFFF;\n",
              "    }\n",
              "  </style>\n",
              "\n",
              "      <script>\n",
              "        const buttonEl =\n",
              "          document.querySelector('#df-fadbccd0-2030-497b-a5f9-502e29638f0a button.colab-df-convert');\n",
              "        buttonEl.style.display =\n",
              "          google.colab.kernel.accessAllowed ? 'block' : 'none';\n",
              "\n",
              "        async function convertToInteractive(key) {\n",
              "          const element = document.querySelector('#df-fadbccd0-2030-497b-a5f9-502e29638f0a');\n",
              "          const dataTable =\n",
              "            await google.colab.kernel.invokeFunction('convertToInteractive',\n",
              "                                                     [key], {});\n",
              "          if (!dataTable) return;\n",
              "\n",
              "          const docLinkHtml = 'Like what you see? Visit the ' +\n",
              "            '<a target=\"_blank\" href=https://colab.research.google.com/notebooks/data_table.ipynb>data table notebook</a>'\n",
              "            + ' to learn more about interactive tables.';\n",
              "          element.innerHTML = '';\n",
              "          dataTable['output_type'] = 'display_data';\n",
              "          await google.colab.output.renderOutput(dataTable, element);\n",
              "          const docLink = document.createElement('div');\n",
              "          docLink.innerHTML = docLinkHtml;\n",
              "          element.appendChild(docLink);\n",
              "        }\n",
              "      </script>\n",
              "    </div>\n",
              "  </div>\n"
            ]
          },
          "metadata": {},
          "execution_count": 19
        }
      ]
    },
    {
      "cell_type": "code",
      "source": [
        "y"
      ],
      "metadata": {
        "colab": {
          "base_uri": "https://localhost:8080/"
        },
        "id": "QEwwx4gCbL2L",
        "outputId": "ddeb3f22-99ef-4bf0-98bd-412cd048df36"
      },
      "execution_count": 20,
      "outputs": [
        {
          "output_type": "execute_result",
          "data": {
            "text/plain": [
              "0       1.471692\n",
              "1       1.474491\n",
              "2       1.475492\n",
              "3       1.468299\n",
              "4       1.557099\n",
              "          ...   \n",
              "2285    1.186789\n",
              "2286    1.184722\n",
              "2287    1.191753\n",
              "2288    1.193118\n",
              "2289    1.182033\n",
              "Name: EUR/USD, Length: 2290, dtype: float64"
            ]
          },
          "metadata": {},
          "execution_count": 20
        }
      ]
    },
    {
      "cell_type": "code",
      "source": [
        "from sklearn.model_selection import train_test_split\n",
        "X_train, X_test, y_train, y_test = train_test_split(X, y, test_size=0.2, random_state=0)"
      ],
      "metadata": {
        "id": "VwuSlqkobL4k"
      },
      "execution_count": 21,
      "outputs": []
    },
    {
      "cell_type": "code",
      "source": [
        "X_train.shape, y_train.shape, X_test.shape, y_test.shape"
      ],
      "metadata": {
        "colab": {
          "base_uri": "https://localhost:8080/"
        },
        "id": "fMkjyUtkbL6y",
        "outputId": "ac79df0c-8104-436c-9f54-f3fde2261b42"
      },
      "execution_count": 22,
      "outputs": [
        {
          "output_type": "execute_result",
          "data": {
            "text/plain": [
              "((1832, 4), (1832,), (458, 4), (458,))"
            ]
          },
          "metadata": {},
          "execution_count": 22
        }
      ]
    },
    {
      "cell_type": "markdown",
      "source": [
        "### Feature Scaling our Data"
      ],
      "metadata": {
        "id": "V_zQjarPbtOG"
      }
    },
    {
      "cell_type": "code",
      "source": [
        "from sklearn.preprocessing import StandardScaler\n",
        "sc =  StandardScaler()\n",
        "X_train = sc.fit_transform(X_train)\n",
        "X_test = sc.transform(X_test)"
      ],
      "metadata": {
        "id": "52ZtK0bTbr9c"
      },
      "execution_count": 23,
      "outputs": []
    },
    {
      "cell_type": "code",
      "source": [
        "X_train"
      ],
      "metadata": {
        "colab": {
          "base_uri": "https://localhost:8080/"
        },
        "id": "uF6lx05RcCUt",
        "outputId": "69f323a3-5a74-4afc-a3ae-6397d300ec3d"
      },
      "execution_count": 24,
      "outputs": [
        {
          "output_type": "execute_result",
          "data": {
            "text/plain": [
              "array([[-0.95609688, -0.6493039 ,  0.39284935, -0.49687641],\n",
              "       [-0.5997591 , -1.44350552,  2.23547396, -0.44710215],\n",
              "       [ 0.73887815, -0.95887177, -1.06726735, -0.99461906],\n",
              "       ...,\n",
              "       [-0.72839904,  1.08384901,  0.21299444,  2.01587542],\n",
              "       [-0.85458184,  1.89683867,  0.17195731,  1.72741135],\n",
              "       [ 0.8076188 , -0.46868693, -0.64372206, -0.73726349]])"
            ]
          },
          "metadata": {},
          "execution_count": 24
        }
      ]
    },
    {
      "cell_type": "code",
      "source": [
        "X_test"
      ],
      "metadata": {
        "colab": {
          "base_uri": "https://localhost:8080/"
        },
        "id": "JkaQ95rffKmC",
        "outputId": "77bbd9cc-79ce-4202-b3bd-eec1861c8eaa"
      },
      "execution_count": 25,
      "outputs": [
        {
          "output_type": "execute_result",
          "data": {
            "text/plain": [
              "array([[ 0.06342648,  0.24908311,  0.25707168,  0.12247382],\n",
              "       [ 1.48111662, -0.31326251, -1.14174242, -0.72453711],\n",
              "       [-0.67778653,  0.69443419,  0.5190009 ,  2.2633327 ],\n",
              "       ...,\n",
              "       [-0.87083359,  1.57616863,  0.07620365,  1.43046233],\n",
              "       [-1.10379406, -0.2398205 ,  0.14865224, -0.3653704 ],\n",
              "       [ 0.56552671, -0.70780168, -0.85498807, -0.86594128]])"
            ]
          },
          "metadata": {},
          "execution_count": 25
        }
      ]
    },
    {
      "cell_type": "markdown",
      "source": [
        "## Building our Model and performing different experiments"
      ],
      "metadata": {
        "id": "koUjG5klYKxl"
      }
    },
    {
      "cell_type": "code",
      "source": [
        "import tensorflow as tf\n",
        "from tensorflow import keras\n",
        "from keras.models import Sequential\n",
        "from keras.layers import Dense, BatchNormalization, Dropout"
      ],
      "metadata": {
        "id": "XAv5Jd3BfT5P"
      },
      "execution_count": 26,
      "outputs": []
    },
    {
      "cell_type": "markdown",
      "source": [
        "\n",
        "\n",
        "\n",
        "Model 1\n",
        "\n",
        "\n"
      ],
      "metadata": {
        "id": "B9waOTAWfNnz"
      }
    },
    {
      "cell_type": "code",
      "source": [
        "model1 = Sequential()\n",
        "\n",
        "model1.add(Dense(64, activation='relu'))\n",
        "model1.add(Dense(32, activation='relu'))\n",
        "model1.add(Dense(16, activation='relu'))\n",
        "model1.add(Dense(1, activation='linear'))\n",
        "\n",
        "model1.compile(loss=tf.keras.losses.mse,\n",
        "               optimizer=tf.keras.optimizers.Adam(),\n",
        "               metrics=['mse'])\n",
        "\n",
        "history1 = model1.fit(X_train, y_train, epochs=100, validation_data=(X_test,  y_test))"
      ],
      "metadata": {
        "colab": {
          "base_uri": "https://localhost:8080/"
        },
        "id": "s1Rj7gjdfM0q",
        "outputId": "ab6f981e-051c-4286-8a00-92878fbe7d77"
      },
      "execution_count": 27,
      "outputs": [
        {
          "output_type": "stream",
          "name": "stdout",
          "text": [
            "Epoch 1/100\n",
            "58/58 [==============================] - 4s 11ms/step - loss: 0.6733 - mse: 0.6733 - val_loss: 0.1523 - val_mse: 0.1523\n",
            "Epoch 2/100\n",
            "58/58 [==============================] - 0s 6ms/step - loss: 0.1017 - mse: 0.1017 - val_loss: 0.0644 - val_mse: 0.0644\n",
            "Epoch 3/100\n",
            "58/58 [==============================] - 0s 5ms/step - loss: 0.0354 - mse: 0.0354 - val_loss: 0.0148 - val_mse: 0.0148\n",
            "Epoch 4/100\n",
            "58/58 [==============================] - 0s 4ms/step - loss: 0.0075 - mse: 0.0075 - val_loss: 0.0048 - val_mse: 0.0048\n",
            "Epoch 5/100\n",
            "58/58 [==============================] - 0s 5ms/step - loss: 0.0035 - mse: 0.0035 - val_loss: 0.0039 - val_mse: 0.0039\n",
            "Epoch 6/100\n",
            "58/58 [==============================] - 0s 5ms/step - loss: 0.0028 - mse: 0.0028 - val_loss: 0.0028 - val_mse: 0.0028\n",
            "Epoch 7/100\n",
            "58/58 [==============================] - 0s 5ms/step - loss: 0.0023 - mse: 0.0023 - val_loss: 0.0023 - val_mse: 0.0023\n",
            "Epoch 8/100\n",
            "58/58 [==============================] - 0s 5ms/step - loss: 0.0020 - mse: 0.0020 - val_loss: 0.0020 - val_mse: 0.0020\n",
            "Epoch 9/100\n",
            "58/58 [==============================] - 0s 4ms/step - loss: 0.0017 - mse: 0.0017 - val_loss: 0.0019 - val_mse: 0.0019\n",
            "Epoch 10/100\n",
            "58/58 [==============================] - 0s 5ms/step - loss: 0.0016 - mse: 0.0016 - val_loss: 0.0017 - val_mse: 0.0017\n",
            "Epoch 11/100\n",
            "58/58 [==============================] - 0s 4ms/step - loss: 0.0015 - mse: 0.0015 - val_loss: 0.0017 - val_mse: 0.0017\n",
            "Epoch 12/100\n",
            "58/58 [==============================] - 0s 5ms/step - loss: 0.0014 - mse: 0.0014 - val_loss: 0.0015 - val_mse: 0.0015\n",
            "Epoch 13/100\n",
            "58/58 [==============================] - 0s 5ms/step - loss: 0.0014 - mse: 0.0014 - val_loss: 0.0014 - val_mse: 0.0014\n",
            "Epoch 14/100\n",
            "58/58 [==============================] - 0s 5ms/step - loss: 0.0012 - mse: 0.0012 - val_loss: 0.0013 - val_mse: 0.0013\n",
            "Epoch 15/100\n",
            "58/58 [==============================] - 0s 5ms/step - loss: 0.0012 - mse: 0.0012 - val_loss: 0.0012 - val_mse: 0.0012\n",
            "Epoch 16/100\n",
            "58/58 [==============================] - 0s 4ms/step - loss: 0.0012 - mse: 0.0012 - val_loss: 0.0011 - val_mse: 0.0011\n",
            "Epoch 17/100\n",
            "58/58 [==============================] - 0s 4ms/step - loss: 0.0011 - mse: 0.0011 - val_loss: 0.0011 - val_mse: 0.0011\n",
            "Epoch 18/100\n",
            "58/58 [==============================] - 0s 5ms/step - loss: 0.0010 - mse: 0.0010 - val_loss: 0.0011 - val_mse: 0.0011\n",
            "Epoch 19/100\n",
            "58/58 [==============================] - 0s 4ms/step - loss: 0.0010 - mse: 0.0010 - val_loss: 9.6873e-04 - val_mse: 9.6873e-04\n",
            "Epoch 20/100\n",
            "58/58 [==============================] - 0s 4ms/step - loss: 0.0010 - mse: 0.0010 - val_loss: 0.0010 - val_mse: 0.0010\n",
            "Epoch 21/100\n",
            "58/58 [==============================] - 0s 6ms/step - loss: 0.0010 - mse: 0.0010 - val_loss: 0.0012 - val_mse: 0.0012\n",
            "Epoch 22/100\n",
            "58/58 [==============================] - 0s 8ms/step - loss: 9.9410e-04 - mse: 9.9410e-04 - val_loss: 0.0011 - val_mse: 0.0011\n",
            "Epoch 23/100\n",
            "58/58 [==============================] - 0s 7ms/step - loss: 9.3784e-04 - mse: 9.3784e-04 - val_loss: 9.8114e-04 - val_mse: 9.8114e-04\n",
            "Epoch 24/100\n",
            "58/58 [==============================] - 1s 9ms/step - loss: 9.3846e-04 - mse: 9.3846e-04 - val_loss: 9.4819e-04 - val_mse: 9.4819e-04\n",
            "Epoch 25/100\n",
            "58/58 [==============================] - 0s 7ms/step - loss: 0.0010 - mse: 0.0010 - val_loss: 8.1963e-04 - val_mse: 8.1963e-04\n",
            "Epoch 26/100\n",
            "58/58 [==============================] - 0s 7ms/step - loss: 9.1037e-04 - mse: 9.1037e-04 - val_loss: 0.0010 - val_mse: 0.0010\n",
            "Epoch 27/100\n",
            "58/58 [==============================] - 1s 9ms/step - loss: 8.6695e-04 - mse: 8.6695e-04 - val_loss: 7.6770e-04 - val_mse: 7.6770e-04\n",
            "Epoch 28/100\n",
            "58/58 [==============================] - 0s 7ms/step - loss: 9.0379e-04 - mse: 9.0379e-04 - val_loss: 8.1078e-04 - val_mse: 8.1078e-04\n",
            "Epoch 29/100\n",
            "58/58 [==============================] - 1s 10ms/step - loss: 9.0793e-04 - mse: 9.0793e-04 - val_loss: 0.0013 - val_mse: 0.0013\n",
            "Epoch 30/100\n",
            "58/58 [==============================] - 0s 8ms/step - loss: 8.7307e-04 - mse: 8.7307e-04 - val_loss: 9.1302e-04 - val_mse: 9.1302e-04\n",
            "Epoch 31/100\n",
            "58/58 [==============================] - 0s 7ms/step - loss: 8.6368e-04 - mse: 8.6368e-04 - val_loss: 9.6022e-04 - val_mse: 9.6022e-04\n",
            "Epoch 32/100\n",
            "58/58 [==============================] - 1s 12ms/step - loss: 8.6077e-04 - mse: 8.6077e-04 - val_loss: 8.2212e-04 - val_mse: 8.2212e-04\n",
            "Epoch 33/100\n",
            "58/58 [==============================] - 1s 10ms/step - loss: 9.0035e-04 - mse: 9.0035e-04 - val_loss: 7.7680e-04 - val_mse: 7.7680e-04\n",
            "Epoch 34/100\n",
            "58/58 [==============================] - 1s 9ms/step - loss: 8.2796e-04 - mse: 8.2796e-04 - val_loss: 7.1100e-04 - val_mse: 7.1100e-04\n",
            "Epoch 35/100\n",
            "58/58 [==============================] - 1s 10ms/step - loss: 8.3744e-04 - mse: 8.3744e-04 - val_loss: 7.8954e-04 - val_mse: 7.8954e-04\n",
            "Epoch 36/100\n",
            "58/58 [==============================] - 1s 9ms/step - loss: 8.0757e-04 - mse: 8.0757e-04 - val_loss: 7.7481e-04 - val_mse: 7.7481e-04\n",
            "Epoch 37/100\n",
            "58/58 [==============================] - 1s 13ms/step - loss: 9.4760e-04 - mse: 9.4760e-04 - val_loss: 7.0047e-04 - val_mse: 7.0047e-04\n",
            "Epoch 38/100\n",
            "58/58 [==============================] - 1s 9ms/step - loss: 8.2436e-04 - mse: 8.2436e-04 - val_loss: 8.4379e-04 - val_mse: 8.4379e-04\n",
            "Epoch 39/100\n",
            "58/58 [==============================] - 0s 8ms/step - loss: 7.2400e-04 - mse: 7.2400e-04 - val_loss: 6.2839e-04 - val_mse: 6.2839e-04\n",
            "Epoch 40/100\n",
            "58/58 [==============================] - 0s 8ms/step - loss: 8.3932e-04 - mse: 8.3932e-04 - val_loss: 7.4407e-04 - val_mse: 7.4407e-04\n",
            "Epoch 41/100\n",
            "58/58 [==============================] - 0s 8ms/step - loss: 7.9071e-04 - mse: 7.9071e-04 - val_loss: 6.7147e-04 - val_mse: 6.7147e-04\n",
            "Epoch 42/100\n",
            "58/58 [==============================] - 0s 8ms/step - loss: 7.6170e-04 - mse: 7.6170e-04 - val_loss: 7.6495e-04 - val_mse: 7.6495e-04\n",
            "Epoch 43/100\n",
            "58/58 [==============================] - 1s 9ms/step - loss: 7.5311e-04 - mse: 7.5311e-04 - val_loss: 7.3623e-04 - val_mse: 7.3623e-04\n",
            "Epoch 44/100\n",
            "58/58 [==============================] - 1s 9ms/step - loss: 7.6887e-04 - mse: 7.6887e-04 - val_loss: 8.6709e-04 - val_mse: 8.6709e-04\n",
            "Epoch 45/100\n",
            "58/58 [==============================] - 0s 8ms/step - loss: 8.0365e-04 - mse: 8.0365e-04 - val_loss: 7.2266e-04 - val_mse: 7.2266e-04\n",
            "Epoch 46/100\n",
            "58/58 [==============================] - 0s 8ms/step - loss: 7.5722e-04 - mse: 7.5722e-04 - val_loss: 0.0011 - val_mse: 0.0011\n",
            "Epoch 47/100\n",
            "58/58 [==============================] - 1s 9ms/step - loss: 8.4676e-04 - mse: 8.4676e-04 - val_loss: 7.0640e-04 - val_mse: 7.0640e-04\n",
            "Epoch 48/100\n",
            "58/58 [==============================] - 0s 6ms/step - loss: 7.9996e-04 - mse: 7.9996e-04 - val_loss: 7.1037e-04 - val_mse: 7.1037e-04\n",
            "Epoch 49/100\n",
            "58/58 [==============================] - 0s 8ms/step - loss: 8.0549e-04 - mse: 8.0549e-04 - val_loss: 9.3413e-04 - val_mse: 9.3413e-04\n",
            "Epoch 50/100\n",
            "58/58 [==============================] - 1s 9ms/step - loss: 8.4480e-04 - mse: 8.4480e-04 - val_loss: 7.3909e-04 - val_mse: 7.3909e-04\n",
            "Epoch 51/100\n",
            "58/58 [==============================] - 0s 8ms/step - loss: 7.2215e-04 - mse: 7.2215e-04 - val_loss: 7.9181e-04 - val_mse: 7.9181e-04\n",
            "Epoch 52/100\n",
            "58/58 [==============================] - 0s 7ms/step - loss: 7.6048e-04 - mse: 7.6048e-04 - val_loss: 8.2668e-04 - val_mse: 8.2668e-04\n",
            "Epoch 53/100\n",
            "58/58 [==============================] - 1s 9ms/step - loss: 8.5829e-04 - mse: 8.5829e-04 - val_loss: 6.8063e-04 - val_mse: 6.8063e-04\n",
            "Epoch 54/100\n",
            "58/58 [==============================] - 0s 7ms/step - loss: 7.4253e-04 - mse: 7.4253e-04 - val_loss: 6.1562e-04 - val_mse: 6.1562e-04\n",
            "Epoch 55/100\n",
            "58/58 [==============================] - 1s 10ms/step - loss: 7.0798e-04 - mse: 7.0798e-04 - val_loss: 6.1231e-04 - val_mse: 6.1231e-04\n",
            "Epoch 56/100\n",
            "58/58 [==============================] - 1s 9ms/step - loss: 7.3416e-04 - mse: 7.3416e-04 - val_loss: 6.4655e-04 - val_mse: 6.4655e-04\n",
            "Epoch 57/100\n",
            "58/58 [==============================] - 0s 8ms/step - loss: 7.9158e-04 - mse: 7.9158e-04 - val_loss: 6.0660e-04 - val_mse: 6.0660e-04\n",
            "Epoch 58/100\n",
            "58/58 [==============================] - 1s 12ms/step - loss: 7.8982e-04 - mse: 7.8982e-04 - val_loss: 7.5892e-04 - val_mse: 7.5892e-04\n",
            "Epoch 59/100\n",
            "58/58 [==============================] - 1s 13ms/step - loss: 7.7576e-04 - mse: 7.7576e-04 - val_loss: 7.2557e-04 - val_mse: 7.2557e-04\n",
            "Epoch 60/100\n",
            "58/58 [==============================] - 1s 13ms/step - loss: 6.9131e-04 - mse: 6.9131e-04 - val_loss: 6.7282e-04 - val_mse: 6.7282e-04\n",
            "Epoch 61/100\n",
            "58/58 [==============================] - 1s 13ms/step - loss: 6.9142e-04 - mse: 6.9142e-04 - val_loss: 6.5445e-04 - val_mse: 6.5445e-04\n",
            "Epoch 62/100\n",
            "58/58 [==============================] - 1s 15ms/step - loss: 7.1271e-04 - mse: 7.1271e-04 - val_loss: 9.7040e-04 - val_mse: 9.7040e-04\n",
            "Epoch 63/100\n",
            "58/58 [==============================] - 1s 12ms/step - loss: 7.9332e-04 - mse: 7.9332e-04 - val_loss: 6.8180e-04 - val_mse: 6.8180e-04\n",
            "Epoch 64/100\n",
            "58/58 [==============================] - 0s 8ms/step - loss: 6.7892e-04 - mse: 6.7892e-04 - val_loss: 6.1502e-04 - val_mse: 6.1502e-04\n",
            "Epoch 65/100\n",
            "58/58 [==============================] - 0s 8ms/step - loss: 6.9080e-04 - mse: 6.9080e-04 - val_loss: 6.5485e-04 - val_mse: 6.5485e-04\n",
            "Epoch 66/100\n",
            "58/58 [==============================] - 0s 7ms/step - loss: 7.0109e-04 - mse: 7.0109e-04 - val_loss: 6.1284e-04 - val_mse: 6.1284e-04\n",
            "Epoch 67/100\n",
            "58/58 [==============================] - 0s 8ms/step - loss: 6.7232e-04 - mse: 6.7232e-04 - val_loss: 8.9192e-04 - val_mse: 8.9192e-04\n",
            "Epoch 68/100\n",
            "58/58 [==============================] - 0s 7ms/step - loss: 6.7779e-04 - mse: 6.7779e-04 - val_loss: 5.7878e-04 - val_mse: 5.7878e-04\n",
            "Epoch 69/100\n",
            "58/58 [==============================] - 0s 8ms/step - loss: 7.2622e-04 - mse: 7.2622e-04 - val_loss: 0.0012 - val_mse: 0.0012\n",
            "Epoch 70/100\n",
            "58/58 [==============================] - 0s 7ms/step - loss: 7.6192e-04 - mse: 7.6192e-04 - val_loss: 0.0011 - val_mse: 0.0011\n",
            "Epoch 71/100\n",
            "58/58 [==============================] - 0s 8ms/step - loss: 8.0972e-04 - mse: 8.0972e-04 - val_loss: 7.1167e-04 - val_mse: 7.1167e-04\n",
            "Epoch 72/100\n",
            "58/58 [==============================] - 0s 7ms/step - loss: 7.0324e-04 - mse: 7.0324e-04 - val_loss: 0.0014 - val_mse: 0.0014\n",
            "Epoch 73/100\n",
            "58/58 [==============================] - 0s 7ms/step - loss: 7.4640e-04 - mse: 7.4640e-04 - val_loss: 6.4391e-04 - val_mse: 6.4391e-04\n",
            "Epoch 74/100\n",
            "58/58 [==============================] - 0s 5ms/step - loss: 6.9885e-04 - mse: 6.9885e-04 - val_loss: 6.6527e-04 - val_mse: 6.6527e-04\n",
            "Epoch 75/100\n",
            "58/58 [==============================] - 0s 4ms/step - loss: 7.2394e-04 - mse: 7.2394e-04 - val_loss: 5.7562e-04 - val_mse: 5.7562e-04\n",
            "Epoch 76/100\n",
            "58/58 [==============================] - 0s 5ms/step - loss: 6.5160e-04 - mse: 6.5160e-04 - val_loss: 5.9120e-04 - val_mse: 5.9120e-04\n",
            "Epoch 77/100\n",
            "58/58 [==============================] - 0s 4ms/step - loss: 6.0129e-04 - mse: 6.0129e-04 - val_loss: 8.4045e-04 - val_mse: 8.4045e-04\n",
            "Epoch 78/100\n",
            "58/58 [==============================] - 0s 4ms/step - loss: 7.4701e-04 - mse: 7.4701e-04 - val_loss: 5.8447e-04 - val_mse: 5.8447e-04\n",
            "Epoch 79/100\n",
            "58/58 [==============================] - 0s 4ms/step - loss: 6.4663e-04 - mse: 6.4663e-04 - val_loss: 6.4769e-04 - val_mse: 6.4769e-04\n",
            "Epoch 80/100\n",
            "58/58 [==============================] - 0s 5ms/step - loss: 6.7242e-04 - mse: 6.7242e-04 - val_loss: 6.0538e-04 - val_mse: 6.0538e-04\n",
            "Epoch 81/100\n",
            "58/58 [==============================] - 0s 4ms/step - loss: 6.9375e-04 - mse: 6.9375e-04 - val_loss: 7.1241e-04 - val_mse: 7.1241e-04\n",
            "Epoch 82/100\n",
            "58/58 [==============================] - 0s 4ms/step - loss: 6.2025e-04 - mse: 6.2025e-04 - val_loss: 6.0172e-04 - val_mse: 6.0172e-04\n",
            "Epoch 83/100\n",
            "58/58 [==============================] - 0s 5ms/step - loss: 6.1450e-04 - mse: 6.1450e-04 - val_loss: 6.5270e-04 - val_mse: 6.5270e-04\n",
            "Epoch 84/100\n",
            "58/58 [==============================] - 0s 4ms/step - loss: 6.8784e-04 - mse: 6.8784e-04 - val_loss: 5.2924e-04 - val_mse: 5.2924e-04\n",
            "Epoch 85/100\n",
            "58/58 [==============================] - 0s 4ms/step - loss: 6.2127e-04 - mse: 6.2127e-04 - val_loss: 8.3102e-04 - val_mse: 8.3102e-04\n",
            "Epoch 86/100\n",
            "58/58 [==============================] - 0s 4ms/step - loss: 7.8575e-04 - mse: 7.8575e-04 - val_loss: 6.0876e-04 - val_mse: 6.0876e-04\n",
            "Epoch 87/100\n",
            "58/58 [==============================] - 0s 5ms/step - loss: 6.6884e-04 - mse: 6.6884e-04 - val_loss: 7.5628e-04 - val_mse: 7.5628e-04\n",
            "Epoch 88/100\n",
            "58/58 [==============================] - 0s 4ms/step - loss: 6.0867e-04 - mse: 6.0867e-04 - val_loss: 6.1564e-04 - val_mse: 6.1564e-04\n",
            "Epoch 89/100\n",
            "58/58 [==============================] - 0s 4ms/step - loss: 6.9095e-04 - mse: 6.9095e-04 - val_loss: 5.8197e-04 - val_mse: 5.8197e-04\n",
            "Epoch 90/100\n",
            "58/58 [==============================] - 0s 5ms/step - loss: 5.3420e-04 - mse: 5.3420e-04 - val_loss: 5.3437e-04 - val_mse: 5.3437e-04\n",
            "Epoch 91/100\n",
            "58/58 [==============================] - 0s 4ms/step - loss: 6.2623e-04 - mse: 6.2623e-04 - val_loss: 5.2428e-04 - val_mse: 5.2428e-04\n",
            "Epoch 92/100\n",
            "58/58 [==============================] - 0s 4ms/step - loss: 6.9789e-04 - mse: 6.9789e-04 - val_loss: 9.1784e-04 - val_mse: 9.1784e-04\n",
            "Epoch 93/100\n",
            "58/58 [==============================] - 0s 7ms/step - loss: 6.3309e-04 - mse: 6.3309e-04 - val_loss: 6.9000e-04 - val_mse: 6.9000e-04\n",
            "Epoch 94/100\n",
            "58/58 [==============================] - 0s 7ms/step - loss: 5.8530e-04 - mse: 5.8530e-04 - val_loss: 8.0262e-04 - val_mse: 8.0262e-04\n",
            "Epoch 95/100\n",
            "58/58 [==============================] - 0s 7ms/step - loss: 6.8279e-04 - mse: 6.8279e-04 - val_loss: 7.6150e-04 - val_mse: 7.6150e-04\n",
            "Epoch 96/100\n",
            "58/58 [==============================] - 0s 6ms/step - loss: 6.3629e-04 - mse: 6.3629e-04 - val_loss: 7.1141e-04 - val_mse: 7.1141e-04\n",
            "Epoch 97/100\n",
            "58/58 [==============================] - 0s 6ms/step - loss: 5.9896e-04 - mse: 5.9896e-04 - val_loss: 5.2156e-04 - val_mse: 5.2156e-04\n",
            "Epoch 98/100\n",
            "58/58 [==============================] - 0s 6ms/step - loss: 5.9487e-04 - mse: 5.9487e-04 - val_loss: 5.8056e-04 - val_mse: 5.8056e-04\n",
            "Epoch 99/100\n",
            "58/58 [==============================] - 0s 7ms/step - loss: 6.3286e-04 - mse: 6.3286e-04 - val_loss: 5.0358e-04 - val_mse: 5.0358e-04\n",
            "Epoch 100/100\n",
            "58/58 [==============================] - 0s 6ms/step - loss: 5.7995e-04 - mse: 5.7995e-04 - val_loss: 8.7495e-04 - val_mse: 8.7495e-04\n"
          ]
        }
      ]
    },
    {
      "cell_type": "markdown",
      "source": [
        "Model 2"
      ],
      "metadata": {
        "id": "6QEumRIXgvzF"
      }
    },
    {
      "cell_type": "code",
      "source": [
        "model2 = Sequential()\n",
        "\n",
        "model2.add(Dense(64, activation='relu'))\n",
        "model2.add(Dense(32, activation='relu'))\n",
        "model2.add(Dense(16, activation='relu'))\n",
        "model2.add(Dense(1, activation='linear'))\n",
        "\n",
        "model2.compile(loss=tf.keras.losses.mse,\n",
        "               optimizer=tf.keras.optimizers.Adam(0.0001),\n",
        "               metrics=['mse'])\n",
        "\n",
        "history2 = model2.fit(X_train, y_train, epochs=100, validation_data=(X_test,  y_test))"
      ],
      "metadata": {
        "colab": {
          "base_uri": "https://localhost:8080/"
        },
        "id": "jq_xdnkmhrOE",
        "outputId": "d3d26c9a-39d2-4af2-a160-66abb535a301"
      },
      "execution_count": 28,
      "outputs": [
        {
          "output_type": "stream",
          "name": "stdout",
          "text": [
            "Epoch 1/100\n",
            "58/58 [==============================] - 2s 7ms/step - loss: 1.8238 - mse: 1.8238 - val_loss: 1.5639 - val_mse: 1.5639\n",
            "Epoch 2/100\n",
            "58/58 [==============================] - 0s 4ms/step - loss: 1.3432 - mse: 1.3432 - val_loss: 1.1627 - val_mse: 1.1627\n",
            "Epoch 3/100\n",
            "58/58 [==============================] - 0s 4ms/step - loss: 0.9808 - mse: 0.9808 - val_loss: 0.8243 - val_mse: 0.8243\n",
            "Epoch 4/100\n",
            "58/58 [==============================] - 0s 4ms/step - loss: 0.6626 - mse: 0.6626 - val_loss: 0.5258 - val_mse: 0.5258\n",
            "Epoch 5/100\n",
            "58/58 [==============================] - 0s 4ms/step - loss: 0.3986 - mse: 0.3986 - val_loss: 0.3088 - val_mse: 0.3088\n",
            "Epoch 6/100\n",
            "58/58 [==============================] - 0s 5ms/step - loss: 0.2420 - mse: 0.2420 - val_loss: 0.2087 - val_mse: 0.2087\n",
            "Epoch 7/100\n",
            "58/58 [==============================] - 0s 4ms/step - loss: 0.1831 - mse: 0.1831 - val_loss: 0.1755 - val_mse: 0.1755\n",
            "Epoch 8/100\n",
            "58/58 [==============================] - 0s 4ms/step - loss: 0.1613 - mse: 0.1613 - val_loss: 0.1588 - val_mse: 0.1588\n",
            "Epoch 9/100\n",
            "58/58 [==============================] - 0s 5ms/step - loss: 0.1478 - mse: 0.1478 - val_loss: 0.1466 - val_mse: 0.1466\n",
            "Epoch 10/100\n",
            "58/58 [==============================] - 0s 5ms/step - loss: 0.1367 - mse: 0.1367 - val_loss: 0.1350 - val_mse: 0.1350\n",
            "Epoch 11/100\n",
            "58/58 [==============================] - 0s 5ms/step - loss: 0.1259 - mse: 0.1259 - val_loss: 0.1237 - val_mse: 0.1237\n",
            "Epoch 12/100\n",
            "58/58 [==============================] - 0s 4ms/step - loss: 0.1150 - mse: 0.1150 - val_loss: 0.1118 - val_mse: 0.1118\n",
            "Epoch 13/100\n",
            "58/58 [==============================] - 0s 4ms/step - loss: 0.1031 - mse: 0.1031 - val_loss: 0.0980 - val_mse: 0.0980\n",
            "Epoch 14/100\n",
            "58/58 [==============================] - 0s 4ms/step - loss: 0.0905 - mse: 0.0905 - val_loss: 0.0852 - val_mse: 0.0852\n",
            "Epoch 15/100\n",
            "58/58 [==============================] - 0s 4ms/step - loss: 0.0787 - mse: 0.0787 - val_loss: 0.0736 - val_mse: 0.0736\n",
            "Epoch 16/100\n",
            "58/58 [==============================] - 0s 4ms/step - loss: 0.0675 - mse: 0.0675 - val_loss: 0.0619 - val_mse: 0.0619\n",
            "Epoch 17/100\n",
            "58/58 [==============================] - 0s 4ms/step - loss: 0.0563 - mse: 0.0563 - val_loss: 0.0506 - val_mse: 0.0506\n",
            "Epoch 18/100\n",
            "58/58 [==============================] - 0s 4ms/step - loss: 0.0460 - mse: 0.0460 - val_loss: 0.0408 - val_mse: 0.0408\n",
            "Epoch 19/100\n",
            "58/58 [==============================] - 0s 4ms/step - loss: 0.0371 - mse: 0.0371 - val_loss: 0.0326 - val_mse: 0.0326\n",
            "Epoch 20/100\n",
            "58/58 [==============================] - 0s 4ms/step - loss: 0.0295 - mse: 0.0295 - val_loss: 0.0258 - val_mse: 0.0258\n",
            "Epoch 21/100\n",
            "58/58 [==============================] - 0s 4ms/step - loss: 0.0232 - mse: 0.0232 - val_loss: 0.0207 - val_mse: 0.0207\n",
            "Epoch 22/100\n",
            "58/58 [==============================] - 0s 5ms/step - loss: 0.0185 - mse: 0.0185 - val_loss: 0.0167 - val_mse: 0.0167\n",
            "Epoch 23/100\n",
            "58/58 [==============================] - 0s 5ms/step - loss: 0.0150 - mse: 0.0150 - val_loss: 0.0137 - val_mse: 0.0137\n",
            "Epoch 24/100\n",
            "58/58 [==============================] - 0s 5ms/step - loss: 0.0123 - mse: 0.0123 - val_loss: 0.0115 - val_mse: 0.0115\n",
            "Epoch 25/100\n",
            "58/58 [==============================] - 0s 4ms/step - loss: 0.0102 - mse: 0.0102 - val_loss: 0.0100 - val_mse: 0.0100\n",
            "Epoch 26/100\n",
            "58/58 [==============================] - 0s 5ms/step - loss: 0.0087 - mse: 0.0087 - val_loss: 0.0090 - val_mse: 0.0090\n",
            "Epoch 27/100\n",
            "58/58 [==============================] - 0s 5ms/step - loss: 0.0076 - mse: 0.0076 - val_loss: 0.0077 - val_mse: 0.0077\n",
            "Epoch 28/100\n",
            "58/58 [==============================] - 0s 6ms/step - loss: 0.0066 - mse: 0.0066 - val_loss: 0.0069 - val_mse: 0.0069\n",
            "Epoch 29/100\n",
            "58/58 [==============================] - 0s 7ms/step - loss: 0.0059 - mse: 0.0059 - val_loss: 0.0063 - val_mse: 0.0063\n",
            "Epoch 30/100\n",
            "58/58 [==============================] - 0s 6ms/step - loss: 0.0054 - mse: 0.0054 - val_loss: 0.0058 - val_mse: 0.0058\n",
            "Epoch 31/100\n",
            "58/58 [==============================] - 0s 6ms/step - loss: 0.0049 - mse: 0.0049 - val_loss: 0.0054 - val_mse: 0.0054\n",
            "Epoch 32/100\n",
            "58/58 [==============================] - 0s 6ms/step - loss: 0.0045 - mse: 0.0045 - val_loss: 0.0049 - val_mse: 0.0049\n",
            "Epoch 33/100\n",
            "58/58 [==============================] - 0s 6ms/step - loss: 0.0042 - mse: 0.0042 - val_loss: 0.0046 - val_mse: 0.0046\n",
            "Epoch 34/100\n",
            "58/58 [==============================] - 0s 6ms/step - loss: 0.0040 - mse: 0.0040 - val_loss: 0.0043 - val_mse: 0.0043\n",
            "Epoch 35/100\n",
            "58/58 [==============================] - 0s 6ms/step - loss: 0.0037 - mse: 0.0037 - val_loss: 0.0040 - val_mse: 0.0040\n",
            "Epoch 36/100\n",
            "58/58 [==============================] - 0s 5ms/step - loss: 0.0035 - mse: 0.0035 - val_loss: 0.0037 - val_mse: 0.0037\n",
            "Epoch 37/100\n",
            "58/58 [==============================] - 0s 4ms/step - loss: 0.0033 - mse: 0.0033 - val_loss: 0.0036 - val_mse: 0.0036\n",
            "Epoch 38/100\n",
            "58/58 [==============================] - 0s 5ms/step - loss: 0.0031 - mse: 0.0031 - val_loss: 0.0033 - val_mse: 0.0033\n",
            "Epoch 39/100\n",
            "58/58 [==============================] - 0s 4ms/step - loss: 0.0029 - mse: 0.0029 - val_loss: 0.0031 - val_mse: 0.0031\n",
            "Epoch 40/100\n",
            "58/58 [==============================] - 0s 4ms/step - loss: 0.0028 - mse: 0.0028 - val_loss: 0.0029 - val_mse: 0.0029\n",
            "Epoch 41/100\n",
            "58/58 [==============================] - 0s 4ms/step - loss: 0.0027 - mse: 0.0027 - val_loss: 0.0028 - val_mse: 0.0028\n",
            "Epoch 42/100\n",
            "58/58 [==============================] - 0s 4ms/step - loss: 0.0025 - mse: 0.0025 - val_loss: 0.0026 - val_mse: 0.0026\n",
            "Epoch 43/100\n",
            "58/58 [==============================] - 0s 4ms/step - loss: 0.0024 - mse: 0.0024 - val_loss: 0.0025 - val_mse: 0.0025\n",
            "Epoch 44/100\n",
            "58/58 [==============================] - 0s 5ms/step - loss: 0.0023 - mse: 0.0023 - val_loss: 0.0024 - val_mse: 0.0024\n",
            "Epoch 45/100\n",
            "58/58 [==============================] - 0s 5ms/step - loss: 0.0022 - mse: 0.0022 - val_loss: 0.0023 - val_mse: 0.0023\n",
            "Epoch 46/100\n",
            "58/58 [==============================] - 0s 4ms/step - loss: 0.0021 - mse: 0.0021 - val_loss: 0.0022 - val_mse: 0.0022\n",
            "Epoch 47/100\n",
            "58/58 [==============================] - 0s 4ms/step - loss: 0.0021 - mse: 0.0021 - val_loss: 0.0021 - val_mse: 0.0021\n",
            "Epoch 48/100\n",
            "58/58 [==============================] - 0s 5ms/step - loss: 0.0020 - mse: 0.0020 - val_loss: 0.0020 - val_mse: 0.0020\n",
            "Epoch 49/100\n",
            "58/58 [==============================] - 0s 5ms/step - loss: 0.0019 - mse: 0.0019 - val_loss: 0.0019 - val_mse: 0.0019\n",
            "Epoch 50/100\n",
            "58/58 [==============================] - 0s 4ms/step - loss: 0.0019 - mse: 0.0019 - val_loss: 0.0019 - val_mse: 0.0019\n",
            "Epoch 51/100\n",
            "58/58 [==============================] - 0s 5ms/step - loss: 0.0018 - mse: 0.0018 - val_loss: 0.0018 - val_mse: 0.0018\n",
            "Epoch 52/100\n",
            "58/58 [==============================] - 0s 5ms/step - loss: 0.0018 - mse: 0.0018 - val_loss: 0.0017 - val_mse: 0.0017\n",
            "Epoch 53/100\n",
            "58/58 [==============================] - 0s 4ms/step - loss: 0.0017 - mse: 0.0017 - val_loss: 0.0017 - val_mse: 0.0017\n",
            "Epoch 54/100\n",
            "58/58 [==============================] - 0s 4ms/step - loss: 0.0017 - mse: 0.0017 - val_loss: 0.0017 - val_mse: 0.0017\n",
            "Epoch 55/100\n",
            "58/58 [==============================] - 0s 5ms/step - loss: 0.0016 - mse: 0.0016 - val_loss: 0.0016 - val_mse: 0.0016\n",
            "Epoch 56/100\n",
            "58/58 [==============================] - 0s 5ms/step - loss: 0.0016 - mse: 0.0016 - val_loss: 0.0015 - val_mse: 0.0015\n",
            "Epoch 57/100\n",
            "58/58 [==============================] - 0s 4ms/step - loss: 0.0015 - mse: 0.0015 - val_loss: 0.0015 - val_mse: 0.0015\n",
            "Epoch 58/100\n",
            "58/58 [==============================] - 0s 4ms/step - loss: 0.0015 - mse: 0.0015 - val_loss: 0.0015 - val_mse: 0.0015\n",
            "Epoch 59/100\n",
            "58/58 [==============================] - 0s 4ms/step - loss: 0.0015 - mse: 0.0015 - val_loss: 0.0014 - val_mse: 0.0014\n",
            "Epoch 60/100\n",
            "58/58 [==============================] - 0s 5ms/step - loss: 0.0014 - mse: 0.0014 - val_loss: 0.0014 - val_mse: 0.0014\n",
            "Epoch 61/100\n",
            "58/58 [==============================] - 0s 4ms/step - loss: 0.0014 - mse: 0.0014 - val_loss: 0.0013 - val_mse: 0.0013\n",
            "Epoch 62/100\n",
            "58/58 [==============================] - 0s 4ms/step - loss: 0.0014 - mse: 0.0014 - val_loss: 0.0013 - val_mse: 0.0013\n",
            "Epoch 63/100\n",
            "58/58 [==============================] - 0s 4ms/step - loss: 0.0014 - mse: 0.0014 - val_loss: 0.0013 - val_mse: 0.0013\n",
            "Epoch 64/100\n",
            "58/58 [==============================] - 0s 4ms/step - loss: 0.0013 - mse: 0.0013 - val_loss: 0.0013 - val_mse: 0.0013\n",
            "Epoch 65/100\n",
            "58/58 [==============================] - 0s 4ms/step - loss: 0.0013 - mse: 0.0013 - val_loss: 0.0012 - val_mse: 0.0012\n",
            "Epoch 66/100\n",
            "58/58 [==============================] - 0s 4ms/step - loss: 0.0013 - mse: 0.0013 - val_loss: 0.0012 - val_mse: 0.0012\n",
            "Epoch 67/100\n",
            "58/58 [==============================] - 0s 5ms/step - loss: 0.0012 - mse: 0.0012 - val_loss: 0.0012 - val_mse: 0.0012\n",
            "Epoch 68/100\n",
            "58/58 [==============================] - 0s 5ms/step - loss: 0.0012 - mse: 0.0012 - val_loss: 0.0012 - val_mse: 0.0012\n",
            "Epoch 69/100\n",
            "58/58 [==============================] - 0s 4ms/step - loss: 0.0012 - mse: 0.0012 - val_loss: 0.0011 - val_mse: 0.0011\n",
            "Epoch 70/100\n",
            "58/58 [==============================] - 0s 4ms/step - loss: 0.0012 - mse: 0.0012 - val_loss: 0.0011 - val_mse: 0.0011\n",
            "Epoch 71/100\n",
            "58/58 [==============================] - 0s 4ms/step - loss: 0.0011 - mse: 0.0011 - val_loss: 0.0011 - val_mse: 0.0011\n",
            "Epoch 72/100\n",
            "58/58 [==============================] - 0s 4ms/step - loss: 0.0011 - mse: 0.0011 - val_loss: 0.0011 - val_mse: 0.0011\n",
            "Epoch 73/100\n",
            "58/58 [==============================] - 0s 5ms/step - loss: 0.0011 - mse: 0.0011 - val_loss: 0.0011 - val_mse: 0.0011\n",
            "Epoch 74/100\n",
            "58/58 [==============================] - 0s 5ms/step - loss: 0.0011 - mse: 0.0011 - val_loss: 0.0010 - val_mse: 0.0010\n",
            "Epoch 75/100\n",
            "58/58 [==============================] - 0s 6ms/step - loss: 0.0011 - mse: 0.0011 - val_loss: 0.0010 - val_mse: 0.0010\n",
            "Epoch 76/100\n",
            "58/58 [==============================] - 0s 6ms/step - loss: 0.0011 - mse: 0.0011 - val_loss: 0.0010 - val_mse: 0.0010\n",
            "Epoch 77/100\n",
            "58/58 [==============================] - 0s 6ms/step - loss: 0.0010 - mse: 0.0010 - val_loss: 0.0010 - val_mse: 0.0010\n",
            "Epoch 78/100\n",
            "58/58 [==============================] - 0s 7ms/step - loss: 0.0010 - mse: 0.0010 - val_loss: 9.5328e-04 - val_mse: 9.5328e-04\n",
            "Epoch 79/100\n",
            "58/58 [==============================] - 0s 6ms/step - loss: 0.0010 - mse: 0.0010 - val_loss: 9.5319e-04 - val_mse: 9.5319e-04\n",
            "Epoch 80/100\n",
            "58/58 [==============================] - 0s 6ms/step - loss: 0.0010 - mse: 0.0010 - val_loss: 9.3884e-04 - val_mse: 9.3884e-04\n",
            "Epoch 81/100\n",
            "58/58 [==============================] - 0s 7ms/step - loss: 9.9725e-04 - mse: 9.9725e-04 - val_loss: 9.0520e-04 - val_mse: 9.0520e-04\n",
            "Epoch 82/100\n",
            "58/58 [==============================] - 0s 6ms/step - loss: 9.7966e-04 - mse: 9.7966e-04 - val_loss: 9.3199e-04 - val_mse: 9.3199e-04\n",
            "Epoch 83/100\n",
            "58/58 [==============================] - 0s 5ms/step - loss: 9.7235e-04 - mse: 9.7235e-04 - val_loss: 9.0540e-04 - val_mse: 9.0540e-04\n",
            "Epoch 84/100\n",
            "58/58 [==============================] - 0s 4ms/step - loss: 9.6242e-04 - mse: 9.6242e-04 - val_loss: 9.1006e-04 - val_mse: 9.1006e-04\n",
            "Epoch 85/100\n",
            "58/58 [==============================] - 0s 4ms/step - loss: 9.5650e-04 - mse: 9.5650e-04 - val_loss: 8.8541e-04 - val_mse: 8.8541e-04\n",
            "Epoch 86/100\n",
            "58/58 [==============================] - 0s 4ms/step - loss: 9.4324e-04 - mse: 9.4324e-04 - val_loss: 8.9953e-04 - val_mse: 8.9953e-04\n",
            "Epoch 87/100\n",
            "58/58 [==============================] - 0s 4ms/step - loss: 9.3410e-04 - mse: 9.3410e-04 - val_loss: 8.6549e-04 - val_mse: 8.6549e-04\n",
            "Epoch 88/100\n",
            "58/58 [==============================] - 0s 4ms/step - loss: 9.4002e-04 - mse: 9.4002e-04 - val_loss: 9.0687e-04 - val_mse: 9.0687e-04\n",
            "Epoch 89/100\n",
            "58/58 [==============================] - 0s 5ms/step - loss: 9.2042e-04 - mse: 9.2042e-04 - val_loss: 9.2278e-04 - val_mse: 9.2278e-04\n",
            "Epoch 90/100\n",
            "58/58 [==============================] - 0s 4ms/step - loss: 9.2496e-04 - mse: 9.2496e-04 - val_loss: 9.3283e-04 - val_mse: 9.3283e-04\n",
            "Epoch 91/100\n",
            "58/58 [==============================] - 0s 5ms/step - loss: 9.5841e-04 - mse: 9.5841e-04 - val_loss: 8.5690e-04 - val_mse: 8.5690e-04\n",
            "Epoch 92/100\n",
            "58/58 [==============================] - 0s 4ms/step - loss: 8.9351e-04 - mse: 8.9351e-04 - val_loss: 8.7796e-04 - val_mse: 8.7796e-04\n",
            "Epoch 93/100\n",
            "58/58 [==============================] - 0s 5ms/step - loss: 8.8921e-04 - mse: 8.8921e-04 - val_loss: 9.3421e-04 - val_mse: 9.3421e-04\n",
            "Epoch 94/100\n",
            "58/58 [==============================] - 0s 5ms/step - loss: 8.9826e-04 - mse: 8.9826e-04 - val_loss: 8.2396e-04 - val_mse: 8.2396e-04\n",
            "Epoch 95/100\n",
            "58/58 [==============================] - 0s 5ms/step - loss: 8.8721e-04 - mse: 8.8721e-04 - val_loss: 8.4430e-04 - val_mse: 8.4430e-04\n",
            "Epoch 96/100\n",
            "58/58 [==============================] - 0s 4ms/step - loss: 8.7030e-04 - mse: 8.7030e-04 - val_loss: 8.7201e-04 - val_mse: 8.7201e-04\n",
            "Epoch 97/100\n",
            "58/58 [==============================] - 0s 5ms/step - loss: 8.5930e-04 - mse: 8.5930e-04 - val_loss: 8.6872e-04 - val_mse: 8.6872e-04\n",
            "Epoch 98/100\n",
            "58/58 [==============================] - 0s 4ms/step - loss: 8.7331e-04 - mse: 8.7331e-04 - val_loss: 8.3245e-04 - val_mse: 8.3245e-04\n",
            "Epoch 99/100\n",
            "58/58 [==============================] - 0s 5ms/step - loss: 8.7402e-04 - mse: 8.7402e-04 - val_loss: 8.1011e-04 - val_mse: 8.1011e-04\n",
            "Epoch 100/100\n",
            "58/58 [==============================] - 0s 4ms/step - loss: 8.5969e-04 - mse: 8.5969e-04 - val_loss: 7.8396e-04 - val_mse: 7.8396e-04\n"
          ]
        }
      ]
    },
    {
      "cell_type": "markdown",
      "source": [
        "Model 3"
      ],
      "metadata": {
        "id": "vv4Oir0Eio0W"
      }
    },
    {
      "cell_type": "code",
      "source": [
        "model3 = Sequential()\n",
        "\n",
        "model3.add(Dense(256, activation='relu'))\n",
        "model3.add(Dense(128, activation='relu'))\n",
        "model3.add(Dense(64, activation='relu'))\n",
        "model3.add(Dense(32, activation='relu'))\n",
        "model3.add(Dense(1, activation='linear'))\n",
        "\n",
        "model3.compile(loss=tf.keras.losses.mse,\n",
        "               optimizer=tf.keras.optimizers.Adam(0.0001),\n",
        "               metrics=['mse'])\n",
        "\n",
        "history3 = model3.fit(X_train, y_train, epochs=100, validation_data=(X_test,  y_test))"
      ],
      "metadata": {
        "colab": {
          "base_uri": "https://localhost:8080/"
        },
        "id": "03zCAp_ZioRO",
        "outputId": "da5bcfc9-f6cb-4ffc-d997-22a66cfd7968"
      },
      "execution_count": 33,
      "outputs": [
        {
          "output_type": "stream",
          "name": "stdout",
          "text": [
            "Epoch 1/100\n",
            "58/58 [==============================] - 3s 7ms/step - loss: 1.3159 - mse: 1.3159 - val_loss: 0.7958 - val_mse: 0.7958\n",
            "Epoch 2/100\n",
            "58/58 [==============================] - 0s 4ms/step - loss: 0.4216 - mse: 0.4216 - val_loss: 0.1877 - val_mse: 0.1877\n",
            "Epoch 3/100\n",
            "58/58 [==============================] - 0s 5ms/step - loss: 0.1546 - mse: 0.1546 - val_loss: 0.1249 - val_mse: 0.1249\n",
            "Epoch 4/100\n",
            "58/58 [==============================] - 0s 4ms/step - loss: 0.1094 - mse: 0.1094 - val_loss: 0.0906 - val_mse: 0.0906\n",
            "Epoch 5/100\n",
            "58/58 [==============================] - 0s 4ms/step - loss: 0.0762 - mse: 0.0762 - val_loss: 0.0588 - val_mse: 0.0588\n",
            "Epoch 6/100\n",
            "58/58 [==============================] - 0s 5ms/step - loss: 0.0477 - mse: 0.0477 - val_loss: 0.0347 - val_mse: 0.0347\n",
            "Epoch 7/100\n",
            "58/58 [==============================] - 0s 4ms/step - loss: 0.0274 - mse: 0.0274 - val_loss: 0.0199 - val_mse: 0.0199\n",
            "Epoch 8/100\n",
            "58/58 [==============================] - 0s 4ms/step - loss: 0.0163 - mse: 0.0163 - val_loss: 0.0134 - val_mse: 0.0134\n",
            "Epoch 9/100\n",
            "58/58 [==============================] - 0s 5ms/step - loss: 0.0111 - mse: 0.0111 - val_loss: 0.0101 - val_mse: 0.0101\n",
            "Epoch 10/100\n",
            "58/58 [==============================] - 0s 5ms/step - loss: 0.0082 - mse: 0.0082 - val_loss: 0.0080 - val_mse: 0.0080\n",
            "Epoch 11/100\n",
            "58/58 [==============================] - 0s 4ms/step - loss: 0.0064 - mse: 0.0064 - val_loss: 0.0061 - val_mse: 0.0061\n",
            "Epoch 12/100\n",
            "58/58 [==============================] - 0s 4ms/step - loss: 0.0049 - mse: 0.0049 - val_loss: 0.0050 - val_mse: 0.0050\n",
            "Epoch 13/100\n",
            "58/58 [==============================] - 0s 5ms/step - loss: 0.0039 - mse: 0.0039 - val_loss: 0.0041 - val_mse: 0.0041\n",
            "Epoch 14/100\n",
            "58/58 [==============================] - 0s 4ms/step - loss: 0.0032 - mse: 0.0032 - val_loss: 0.0034 - val_mse: 0.0034\n",
            "Epoch 15/100\n",
            "58/58 [==============================] - 0s 4ms/step - loss: 0.0028 - mse: 0.0028 - val_loss: 0.0029 - val_mse: 0.0029\n",
            "Epoch 16/100\n",
            "58/58 [==============================] - 0s 5ms/step - loss: 0.0024 - mse: 0.0024 - val_loss: 0.0024 - val_mse: 0.0024\n",
            "Epoch 17/100\n",
            "58/58 [==============================] - 0s 5ms/step - loss: 0.0020 - mse: 0.0020 - val_loss: 0.0023 - val_mse: 0.0023\n",
            "Epoch 18/100\n",
            "58/58 [==============================] - 0s 4ms/step - loss: 0.0018 - mse: 0.0018 - val_loss: 0.0021 - val_mse: 0.0021\n",
            "Epoch 19/100\n",
            "58/58 [==============================] - 0s 4ms/step - loss: 0.0017 - mse: 0.0017 - val_loss: 0.0017 - val_mse: 0.0017\n",
            "Epoch 20/100\n",
            "58/58 [==============================] - 0s 5ms/step - loss: 0.0015 - mse: 0.0015 - val_loss: 0.0016 - val_mse: 0.0016\n",
            "Epoch 21/100\n",
            "58/58 [==============================] - 0s 4ms/step - loss: 0.0015 - mse: 0.0015 - val_loss: 0.0015 - val_mse: 0.0015\n",
            "Epoch 22/100\n",
            "58/58 [==============================] - 0s 4ms/step - loss: 0.0014 - mse: 0.0014 - val_loss: 0.0014 - val_mse: 0.0014\n",
            "Epoch 23/100\n",
            "58/58 [==============================] - 0s 5ms/step - loss: 0.0013 - mse: 0.0013 - val_loss: 0.0013 - val_mse: 0.0013\n",
            "Epoch 24/100\n",
            "58/58 [==============================] - 0s 5ms/step - loss: 0.0012 - mse: 0.0012 - val_loss: 0.0012 - val_mse: 0.0012\n",
            "Epoch 25/100\n",
            "58/58 [==============================] - 0s 5ms/step - loss: 0.0012 - mse: 0.0012 - val_loss: 0.0012 - val_mse: 0.0012\n",
            "Epoch 26/100\n",
            "58/58 [==============================] - 0s 5ms/step - loss: 0.0011 - mse: 0.0011 - val_loss: 0.0011 - val_mse: 0.0011\n",
            "Epoch 27/100\n",
            "58/58 [==============================] - 0s 4ms/step - loss: 0.0011 - mse: 0.0011 - val_loss: 0.0011 - val_mse: 0.0011\n",
            "Epoch 28/100\n",
            "58/58 [==============================] - 0s 4ms/step - loss: 0.0010 - mse: 0.0010 - val_loss: 0.0010 - val_mse: 0.0010\n",
            "Epoch 29/100\n",
            "58/58 [==============================] - 0s 5ms/step - loss: 0.0010 - mse: 0.0010 - val_loss: 9.6548e-04 - val_mse: 9.6548e-04\n",
            "Epoch 30/100\n",
            "58/58 [==============================] - 0s 4ms/step - loss: 9.8176e-04 - mse: 9.8176e-04 - val_loss: 9.3824e-04 - val_mse: 9.3824e-04\n",
            "Epoch 31/100\n",
            "58/58 [==============================] - 0s 5ms/step - loss: 9.5467e-04 - mse: 9.5467e-04 - val_loss: 9.8033e-04 - val_mse: 9.8033e-04\n",
            "Epoch 32/100\n",
            "58/58 [==============================] - 0s 5ms/step - loss: 9.4780e-04 - mse: 9.4780e-04 - val_loss: 9.0350e-04 - val_mse: 9.0350e-04\n",
            "Epoch 33/100\n",
            "58/58 [==============================] - 0s 4ms/step - loss: 9.1424e-04 - mse: 9.1424e-04 - val_loss: 9.1272e-04 - val_mse: 9.1272e-04\n",
            "Epoch 34/100\n",
            "58/58 [==============================] - 0s 6ms/step - loss: 8.8407e-04 - mse: 8.8407e-04 - val_loss: 8.3119e-04 - val_mse: 8.3119e-04\n",
            "Epoch 35/100\n",
            "58/58 [==============================] - 0s 7ms/step - loss: 9.0053e-04 - mse: 9.0053e-04 - val_loss: 8.7724e-04 - val_mse: 8.7724e-04\n",
            "Epoch 36/100\n",
            "58/58 [==============================] - 0s 7ms/step - loss: 8.6852e-04 - mse: 8.6852e-04 - val_loss: 8.6350e-04 - val_mse: 8.6350e-04\n",
            "Epoch 37/100\n",
            "58/58 [==============================] - 0s 6ms/step - loss: 8.6039e-04 - mse: 8.6039e-04 - val_loss: 7.3938e-04 - val_mse: 7.3938e-04\n",
            "Epoch 38/100\n",
            "58/58 [==============================] - 0s 6ms/step - loss: 8.9217e-04 - mse: 8.9217e-04 - val_loss: 7.5843e-04 - val_mse: 7.5843e-04\n",
            "Epoch 39/100\n",
            "58/58 [==============================] - 0s 7ms/step - loss: 7.7860e-04 - mse: 7.7860e-04 - val_loss: 7.9790e-04 - val_mse: 7.9790e-04\n",
            "Epoch 40/100\n",
            "58/58 [==============================] - 0s 6ms/step - loss: 8.2342e-04 - mse: 8.2342e-04 - val_loss: 9.1157e-04 - val_mse: 9.1157e-04\n",
            "Epoch 41/100\n",
            "58/58 [==============================] - 0s 6ms/step - loss: 8.3523e-04 - mse: 8.3523e-04 - val_loss: 0.0011 - val_mse: 0.0011\n",
            "Epoch 42/100\n",
            "58/58 [==============================] - 0s 6ms/step - loss: 7.5793e-04 - mse: 7.5793e-04 - val_loss: 7.3699e-04 - val_mse: 7.3699e-04\n",
            "Epoch 43/100\n",
            "58/58 [==============================] - 0s 4ms/step - loss: 7.6223e-04 - mse: 7.6223e-04 - val_loss: 8.8915e-04 - val_mse: 8.8915e-04\n",
            "Epoch 44/100\n",
            "58/58 [==============================] - 0s 5ms/step - loss: 7.6611e-04 - mse: 7.6611e-04 - val_loss: 0.0010 - val_mse: 0.0010\n",
            "Epoch 45/100\n",
            "58/58 [==============================] - 0s 5ms/step - loss: 7.8940e-04 - mse: 7.8940e-04 - val_loss: 6.7882e-04 - val_mse: 6.7882e-04\n",
            "Epoch 46/100\n",
            "58/58 [==============================] - 0s 4ms/step - loss: 7.1165e-04 - mse: 7.1165e-04 - val_loss: 8.2378e-04 - val_mse: 8.2378e-04\n",
            "Epoch 47/100\n",
            "58/58 [==============================] - 0s 5ms/step - loss: 7.7513e-04 - mse: 7.7513e-04 - val_loss: 7.3630e-04 - val_mse: 7.3630e-04\n",
            "Epoch 48/100\n",
            "58/58 [==============================] - 0s 4ms/step - loss: 7.2905e-04 - mse: 7.2905e-04 - val_loss: 6.3092e-04 - val_mse: 6.3092e-04\n",
            "Epoch 49/100\n",
            "58/58 [==============================] - 0s 5ms/step - loss: 6.6934e-04 - mse: 6.6934e-04 - val_loss: 7.2585e-04 - val_mse: 7.2585e-04\n",
            "Epoch 50/100\n",
            "58/58 [==============================] - 0s 4ms/step - loss: 7.0336e-04 - mse: 7.0336e-04 - val_loss: 0.0012 - val_mse: 0.0012\n",
            "Epoch 51/100\n",
            "58/58 [==============================] - 0s 5ms/step - loss: 6.8775e-04 - mse: 6.8775e-04 - val_loss: 6.4826e-04 - val_mse: 6.4826e-04\n",
            "Epoch 52/100\n",
            "58/58 [==============================] - 0s 4ms/step - loss: 6.6413e-04 - mse: 6.6413e-04 - val_loss: 6.2910e-04 - val_mse: 6.2910e-04\n",
            "Epoch 53/100\n",
            "58/58 [==============================] - 0s 5ms/step - loss: 7.0063e-04 - mse: 7.0063e-04 - val_loss: 6.5599e-04 - val_mse: 6.5599e-04\n",
            "Epoch 54/100\n",
            "58/58 [==============================] - 0s 5ms/step - loss: 6.6270e-04 - mse: 6.6270e-04 - val_loss: 6.2715e-04 - val_mse: 6.2715e-04\n",
            "Epoch 55/100\n",
            "58/58 [==============================] - 0s 5ms/step - loss: 7.0493e-04 - mse: 7.0493e-04 - val_loss: 6.4997e-04 - val_mse: 6.4997e-04\n",
            "Epoch 56/100\n",
            "58/58 [==============================] - 0s 4ms/step - loss: 6.2407e-04 - mse: 6.2407e-04 - val_loss: 7.7800e-04 - val_mse: 7.7800e-04\n",
            "Epoch 57/100\n",
            "58/58 [==============================] - 0s 4ms/step - loss: 7.1217e-04 - mse: 7.1217e-04 - val_loss: 6.3033e-04 - val_mse: 6.3033e-04\n",
            "Epoch 58/100\n",
            "58/58 [==============================] - 0s 4ms/step - loss: 6.4591e-04 - mse: 6.4591e-04 - val_loss: 7.5414e-04 - val_mse: 7.5414e-04\n",
            "Epoch 59/100\n",
            "58/58 [==============================] - 0s 4ms/step - loss: 6.1779e-04 - mse: 6.1779e-04 - val_loss: 6.9078e-04 - val_mse: 6.9078e-04\n",
            "Epoch 60/100\n",
            "58/58 [==============================] - 0s 4ms/step - loss: 6.1728e-04 - mse: 6.1728e-04 - val_loss: 6.0894e-04 - val_mse: 6.0894e-04\n",
            "Epoch 61/100\n",
            "58/58 [==============================] - 0s 4ms/step - loss: 6.3860e-04 - mse: 6.3860e-04 - val_loss: 6.4104e-04 - val_mse: 6.4104e-04\n",
            "Epoch 62/100\n",
            "58/58 [==============================] - 0s 4ms/step - loss: 6.3095e-04 - mse: 6.3095e-04 - val_loss: 6.1640e-04 - val_mse: 6.1640e-04\n",
            "Epoch 63/100\n",
            "58/58 [==============================] - 0s 4ms/step - loss: 6.5647e-04 - mse: 6.5647e-04 - val_loss: 5.8243e-04 - val_mse: 5.8243e-04\n",
            "Epoch 64/100\n",
            "58/58 [==============================] - 0s 4ms/step - loss: 6.2187e-04 - mse: 6.2187e-04 - val_loss: 6.2796e-04 - val_mse: 6.2796e-04\n",
            "Epoch 65/100\n",
            "58/58 [==============================] - 0s 5ms/step - loss: 6.1099e-04 - mse: 6.1099e-04 - val_loss: 5.9193e-04 - val_mse: 5.9193e-04\n",
            "Epoch 66/100\n",
            "58/58 [==============================] - 0s 5ms/step - loss: 6.2468e-04 - mse: 6.2468e-04 - val_loss: 6.4810e-04 - val_mse: 6.4810e-04\n",
            "Epoch 67/100\n",
            "58/58 [==============================] - 0s 5ms/step - loss: 6.7459e-04 - mse: 6.7459e-04 - val_loss: 6.1381e-04 - val_mse: 6.1381e-04\n",
            "Epoch 68/100\n",
            "58/58 [==============================] - 0s 4ms/step - loss: 6.4584e-04 - mse: 6.4584e-04 - val_loss: 5.9135e-04 - val_mse: 5.9135e-04\n",
            "Epoch 69/100\n",
            "58/58 [==============================] - 0s 5ms/step - loss: 6.4601e-04 - mse: 6.4601e-04 - val_loss: 5.8339e-04 - val_mse: 5.8339e-04\n",
            "Epoch 70/100\n",
            "58/58 [==============================] - 0s 5ms/step - loss: 6.4786e-04 - mse: 6.4786e-04 - val_loss: 6.0667e-04 - val_mse: 6.0667e-04\n",
            "Epoch 71/100\n",
            "58/58 [==============================] - 0s 5ms/step - loss: 6.0119e-04 - mse: 6.0119e-04 - val_loss: 5.8430e-04 - val_mse: 5.8430e-04\n",
            "Epoch 72/100\n",
            "58/58 [==============================] - 0s 4ms/step - loss: 5.5882e-04 - mse: 5.5882e-04 - val_loss: 6.8053e-04 - val_mse: 6.8053e-04\n",
            "Epoch 73/100\n",
            "58/58 [==============================] - 0s 4ms/step - loss: 5.8521e-04 - mse: 5.8521e-04 - val_loss: 5.4966e-04 - val_mse: 5.4966e-04\n",
            "Epoch 74/100\n",
            "58/58 [==============================] - 0s 5ms/step - loss: 6.0609e-04 - mse: 6.0609e-04 - val_loss: 5.8145e-04 - val_mse: 5.8145e-04\n",
            "Epoch 75/100\n",
            "58/58 [==============================] - 0s 4ms/step - loss: 5.9692e-04 - mse: 5.9692e-04 - val_loss: 0.0011 - val_mse: 0.0011\n",
            "Epoch 76/100\n",
            "58/58 [==============================] - 0s 5ms/step - loss: 6.0492e-04 - mse: 6.0492e-04 - val_loss: 7.7933e-04 - val_mse: 7.7933e-04\n",
            "Epoch 77/100\n",
            "58/58 [==============================] - 0s 5ms/step - loss: 5.6291e-04 - mse: 5.6291e-04 - val_loss: 5.1535e-04 - val_mse: 5.1535e-04\n",
            "Epoch 78/100\n",
            "58/58 [==============================] - 0s 5ms/step - loss: 5.5607e-04 - mse: 5.5607e-04 - val_loss: 6.1507e-04 - val_mse: 6.1507e-04\n",
            "Epoch 79/100\n",
            "58/58 [==============================] - 0s 7ms/step - loss: 5.4875e-04 - mse: 5.4875e-04 - val_loss: 5.3991e-04 - val_mse: 5.3991e-04\n",
            "Epoch 80/100\n",
            "58/58 [==============================] - 0s 6ms/step - loss: 5.2983e-04 - mse: 5.2983e-04 - val_loss: 6.0351e-04 - val_mse: 6.0351e-04\n",
            "Epoch 81/100\n",
            "58/58 [==============================] - 0s 6ms/step - loss: 5.4698e-04 - mse: 5.4698e-04 - val_loss: 5.8072e-04 - val_mse: 5.8072e-04\n",
            "Epoch 82/100\n",
            "58/58 [==============================] - 0s 7ms/step - loss: 5.6538e-04 - mse: 5.6538e-04 - val_loss: 5.8300e-04 - val_mse: 5.8300e-04\n",
            "Epoch 83/100\n",
            "58/58 [==============================] - 0s 6ms/step - loss: 5.7504e-04 - mse: 5.7504e-04 - val_loss: 5.7592e-04 - val_mse: 5.7592e-04\n",
            "Epoch 84/100\n",
            "58/58 [==============================] - 0s 7ms/step - loss: 5.3142e-04 - mse: 5.3142e-04 - val_loss: 6.5298e-04 - val_mse: 6.5298e-04\n",
            "Epoch 85/100\n",
            "58/58 [==============================] - 0s 6ms/step - loss: 5.9593e-04 - mse: 5.9593e-04 - val_loss: 6.0452e-04 - val_mse: 6.0452e-04\n",
            "Epoch 86/100\n",
            "58/58 [==============================] - 0s 7ms/step - loss: 5.3008e-04 - mse: 5.3008e-04 - val_loss: 5.7897e-04 - val_mse: 5.7897e-04\n",
            "Epoch 87/100\n",
            "58/58 [==============================] - 0s 5ms/step - loss: 5.4841e-04 - mse: 5.4841e-04 - val_loss: 7.6067e-04 - val_mse: 7.6067e-04\n",
            "Epoch 88/100\n",
            "58/58 [==============================] - 0s 5ms/step - loss: 5.9203e-04 - mse: 5.9203e-04 - val_loss: 6.7417e-04 - val_mse: 6.7417e-04\n",
            "Epoch 89/100\n",
            "58/58 [==============================] - 0s 5ms/step - loss: 5.8906e-04 - mse: 5.8906e-04 - val_loss: 6.3389e-04 - val_mse: 6.3389e-04\n",
            "Epoch 90/100\n",
            "58/58 [==============================] - 0s 5ms/step - loss: 5.1244e-04 - mse: 5.1244e-04 - val_loss: 9.2731e-04 - val_mse: 9.2731e-04\n",
            "Epoch 91/100\n",
            "58/58 [==============================] - 0s 4ms/step - loss: 5.4406e-04 - mse: 5.4406e-04 - val_loss: 5.8626e-04 - val_mse: 5.8626e-04\n",
            "Epoch 92/100\n",
            "58/58 [==============================] - 0s 5ms/step - loss: 5.2681e-04 - mse: 5.2681e-04 - val_loss: 5.1803e-04 - val_mse: 5.1803e-04\n",
            "Epoch 93/100\n",
            "58/58 [==============================] - 0s 4ms/step - loss: 5.3237e-04 - mse: 5.3237e-04 - val_loss: 5.4993e-04 - val_mse: 5.4993e-04\n",
            "Epoch 94/100\n",
            "58/58 [==============================] - 0s 5ms/step - loss: 5.7889e-04 - mse: 5.7889e-04 - val_loss: 5.3553e-04 - val_mse: 5.3553e-04\n",
            "Epoch 95/100\n",
            "58/58 [==============================] - 0s 4ms/step - loss: 5.4856e-04 - mse: 5.4856e-04 - val_loss: 6.0643e-04 - val_mse: 6.0643e-04\n",
            "Epoch 96/100\n",
            "58/58 [==============================] - 0s 5ms/step - loss: 5.2468e-04 - mse: 5.2468e-04 - val_loss: 4.7919e-04 - val_mse: 4.7919e-04\n",
            "Epoch 97/100\n",
            "58/58 [==============================] - 0s 5ms/step - loss: 5.4566e-04 - mse: 5.4566e-04 - val_loss: 5.9821e-04 - val_mse: 5.9821e-04\n",
            "Epoch 98/100\n",
            "58/58 [==============================] - 0s 4ms/step - loss: 5.5329e-04 - mse: 5.5329e-04 - val_loss: 5.5647e-04 - val_mse: 5.5647e-04\n",
            "Epoch 99/100\n",
            "58/58 [==============================] - 0s 4ms/step - loss: 5.6244e-04 - mse: 5.6244e-04 - val_loss: 5.0872e-04 - val_mse: 5.0872e-04\n",
            "Epoch 100/100\n",
            "58/58 [==============================] - 0s 5ms/step - loss: 5.2651e-04 - mse: 5.2651e-04 - val_loss: 5.7806e-04 - val_mse: 5.7806e-04\n"
          ]
        }
      ]
    },
    {
      "cell_type": "markdown",
      "source": [
        "## Evaluating all our models"
      ],
      "metadata": {
        "id": "E62Wu2ZWYK2N"
      }
    },
    {
      "cell_type": "code",
      "source": [
        "# Evaluating Model1\n",
        "model1.evaluate(X_test, y_test)"
      ],
      "metadata": {
        "colab": {
          "base_uri": "https://localhost:8080/"
        },
        "id": "aEkbKDZxiEeq",
        "outputId": "eea474ab-be0e-4b15-be1e-57b129ae7a62"
      },
      "execution_count": 29,
      "outputs": [
        {
          "output_type": "stream",
          "name": "stdout",
          "text": [
            "15/15 [==============================] - 0s 7ms/step - loss: 8.7495e-04 - mse: 8.7495e-04\n"
          ]
        },
        {
          "output_type": "execute_result",
          "data": {
            "text/plain": [
              "[0.0008749502012506127, 0.0008749502012506127]"
            ]
          },
          "metadata": {},
          "execution_count": 29
        }
      ]
    },
    {
      "cell_type": "code",
      "source": [
        "y_preds = model1.predict(X_test)"
      ],
      "metadata": {
        "colab": {
          "base_uri": "https://localhost:8080/"
        },
        "id": "EyzeWq1MiQ0i",
        "outputId": "67cc16c7-6481-4622-8b50-551741116a56"
      },
      "execution_count": 30,
      "outputs": [
        {
          "output_type": "stream",
          "name": "stdout",
          "text": [
            "15/15 [==============================] - 0s 2ms/step\n"
          ]
        }
      ]
    },
    {
      "cell_type": "code",
      "source": [
        "from sklearn.metrics import r2_score\n",
        "r2_score(y_test, y_preds)"
      ],
      "metadata": {
        "colab": {
          "base_uri": "https://localhost:8080/"
        },
        "id": "94ot8AvlicVx",
        "outputId": "101bcfa0-fe16-46ff-9c77-9c88d6fc369d"
      },
      "execution_count": 32,
      "outputs": [
        {
          "output_type": "execute_result",
          "data": {
            "text/plain": [
              "0.9453553536658873"
            ]
          },
          "metadata": {},
          "execution_count": 32
        }
      ]
    },
    {
      "cell_type": "code",
      "source": [
        "print(f'MAE Score : {tf.keras.metrics.mean_absolute_error(y_test, tf.squeeze(y_preds))}')\n",
        "print(f'MSE Score : {tf.keras.metrics.mean_squared_error(y_test, tf.squeeze(y_preds))}')\n",
        "print(f'RMSE Score : {tf.sqrt(tf.keras.metrics.mean_squared_error(y_test, tf.squeeze(y_preds)))}')"
      ],
      "metadata": {
        "colab": {
          "base_uri": "https://localhost:8080/"
        },
        "id": "nIWWILRwjJF0",
        "outputId": "89fbcefc-c87f-4e28-d0b2-2aa1b8e1dd47"
      },
      "execution_count": 34,
      "outputs": [
        {
          "output_type": "stream",
          "name": "stdout",
          "text": [
            "MAE Score : 0.021766938269138336\n",
            "MSE Score : 0.0008749502012506127\n",
            "RMSE Score : 0.029579557478427887\n"
          ]
        }
      ]
    },
    {
      "cell_type": "code",
      "source": [
        "plt.title('Loss during Training vs Test')\n",
        "plt.plot(history1.history['loss'], color='red', label = 'Training loss')\n",
        "plt.plot(history1.history['val_loss'], color='blue', label = 'Training Val loss')\n",
        "plt.legend()\n",
        "plt.show()"
      ],
      "metadata": {
        "colab": {
          "base_uri": "https://localhost:8080/",
          "height": 452
        },
        "id": "AJijI9iYjPgK",
        "outputId": "82b048b1-f523-4a96-db04-1e13c3262577"
      },
      "execution_count": 35,
      "outputs": [
        {
          "output_type": "display_data",
          "data": {
            "text/plain": [
              "<Figure size 640x480 with 1 Axes>"
            ],
            "image/png": "[encoded data removed]"
          },
          "metadata": {}
        }
      ]
    },
    {
      "cell_type": "code",
      "source": [
        "plt.title('MSE during Training vs Test')\n",
        "plt.plot(history1.history['mse'], color='red', label = 'Training loss')\n",
        "plt.plot(history1.history['val_mse'], color='blue', label = 'Training Val loss')\n",
        "plt.legend()\n",
        "plt.show()"
      ],
      "metadata": {
        "colab": {
          "base_uri": "https://localhost:8080/",
          "height": 452
        },
        "id": "qm8kbdcyjy1x",
        "outputId": "abc34bb1-0c8a-4b83-bacc-01d6ae85c8c1"
      },
      "execution_count": 40,
      "outputs": [
        {
          "output_type": "display_data",
          "data": {
            "text/plain": [
              "<Figure size 640x480 with 1 Axes>"
            ],
            "image/png": "[encoded data removed]"
          },
          "metadata": {}
        }
      ]
    },
    {
      "cell_type": "code",
      "source": [
        "# Evaluating Model2\n",
        "model2.evaluate(X_test, y_test)"
      ],
      "metadata": {
        "colab": {
          "base_uri": "https://localhost:8080/"
        },
        "id": "zzD-BYv2jgxS",
        "outputId": "b79a2a35-d2d3-4f28-d305-28d63a8eba1e"
      },
      "execution_count": 36,
      "outputs": [
        {
          "output_type": "stream",
          "name": "stdout",
          "text": [
            "15/15 [==============================] - 0s 5ms/step - loss: 7.8396e-04 - mse: 7.8396e-04\n"
          ]
        },
        {
          "output_type": "execute_result",
          "data": {
            "text/plain": [
              "[0.0007839606259949505, 0.0007839606259949505]"
            ]
          },
          "metadata": {},
          "execution_count": 36
        }
      ]
    },
    {
      "cell_type": "code",
      "source": [
        "y_preds2 = model2.predict(X_test)"
      ],
      "metadata": {
        "colab": {
          "base_uri": "https://localhost:8080/"
        },
        "id": "7dZAQoKvjk1r",
        "outputId": "b4316dce-fbc0-4b22-b9bd-42ede168cd79"
      },
      "execution_count": 37,
      "outputs": [
        {
          "output_type": "stream",
          "name": "stdout",
          "text": [
            "15/15 [==============================] - 0s 2ms/step\n"
          ]
        }
      ]
    },
    {
      "cell_type": "code",
      "source": [
        "from sklearn.metrics import r2_score\n",
        "r2_score(y_test, y_preds2)"
      ],
      "metadata": {
        "colab": {
          "base_uri": "https://localhost:8080/"
        },
        "id": "fPojKzIMjoa5",
        "outputId": "bcc6fa81-bbc4-49a8-e655-d327ca0a2bf5"
      },
      "execution_count": 38,
      "outputs": [
        {
          "output_type": "execute_result",
          "data": {
            "text/plain": [
              "0.9510380697605109"
            ]
          },
          "metadata": {},
          "execution_count": 38
        }
      ]
    },
    {
      "cell_type": "code",
      "source": [
        "print(f'MAE Score : {tf.keras.metrics.mean_absolute_error(y_test, tf.squeeze(y_preds2))}')\n",
        "print(f'MSE Score : {tf.keras.metrics.mean_squared_error(y_test, tf.squeeze(y_preds2))}')\n",
        "print(f'RMSE Score : {tf.sqrt(tf.keras.metrics.mean_squared_error(y_test, tf.squeeze(y_preds2)))}')"
      ],
      "metadata": {
        "colab": {
          "base_uri": "https://localhost:8080/"
        },
        "id": "1ItDKPC0js8R",
        "outputId": "a7572922-42f4-4126-f27b-0ba815debaf5"
      },
      "execution_count": 39,
      "outputs": [
        {
          "output_type": "stream",
          "name": "stdout",
          "text": [
            "MAE Score : 0.021098047494888306\n",
            "MSE Score : 0.0007839605677872896\n",
            "RMSE Score : 0.02799929492175579\n"
          ]
        }
      ]
    },
    {
      "cell_type": "code",
      "source": [
        "plt.title('Loss during Training vs Test')\n",
        "plt.plot(history2.history['loss'], color='red', label = 'Training loss')\n",
        "plt.plot(history2.history['val_loss'], color='blue', label = 'Training Val loss')\n",
        "plt.legend()\n",
        "plt.show()"
      ],
      "metadata": {
        "colab": {
          "base_uri": "https://localhost:8080/",
          "height": 452
        },
        "id": "wKyUCAHyjyIS",
        "outputId": "b6c3e95f-b914-45ad-840e-10c2ebf682c6"
      },
      "execution_count": 41,
      "outputs": [
        {
          "output_type": "display_data",
          "data": {
            "text/plain": [
              "<Figure size 640x480 with 1 Axes>"
            ],
            "image/png": "[encoded data removed]"
          },
          "metadata": {}
        }
      ]
    },
    {
      "cell_type": "code",
      "source": [
        "plt.title('MSE during Training vs Test')\n",
        "plt.plot(history1.history['mse'], color='red', label = 'Training loss')\n",
        "plt.plot(history1.history['val_mse'], color='blue', label = 'Training Val loss')\n",
        "plt.legend()\n",
        "plt.show()"
      ],
      "metadata": {
        "colab": {
          "base_uri": "https://localhost:8080/",
          "height": 452
        },
        "id": "fFX60kMtj51y",
        "outputId": "be5aff88-83d0-4737-cef5-778f94e00934"
      },
      "execution_count": 43,
      "outputs": [
        {
          "output_type": "display_data",
          "data": {
            "text/plain": [
              "<Figure size 640x480 with 1 Axes>"
            ],
            "image/png": "[encoded data removed]"
          },
          "metadata": {}
        }
      ]
    },
    {
      "cell_type": "code",
      "source": [
        "# Evaluating Model3\n",
        "model3.evaluate(X_test, y_test)"
      ],
      "metadata": {
        "colab": {
          "base_uri": "https://localhost:8080/"
        },
        "id": "QyvyqxfWj-5a",
        "outputId": "b4d8f6ec-d810-4f86-8b46-c29b3761c5d0"
      },
      "execution_count": 44,
      "outputs": [
        {
          "output_type": "stream",
          "name": "stdout",
          "text": [
            "15/15 [==============================] - 0s 3ms/step - loss: 5.7806e-04 - mse: 5.7806e-04\n"
          ]
        },
        {
          "output_type": "execute_result",
          "data": {
            "text/plain": [
              "[0.0005780579522252083, 0.0005780579522252083]"
            ]
          },
          "metadata": {},
          "execution_count": 44
        }
      ]
    },
    {
      "cell_type": "code",
      "source": [
        "y_preds3 = model3.predict(X_test)"
      ],
      "metadata": {
        "colab": {
          "base_uri": "https://localhost:8080/"
        },
        "id": "v9EsIw9nkEAa",
        "outputId": "c5c5e1fe-4d64-4cfe-ccd0-044dd25e8947"
      },
      "execution_count": 45,
      "outputs": [
        {
          "output_type": "stream",
          "name": "stdout",
          "text": [
            "15/15 [==============================] - 0s 2ms/step\n"
          ]
        }
      ]
    },
    {
      "cell_type": "code",
      "source": [
        "from sklearn.metrics import r2_score\n",
        "r2_score(y_test, y_preds3)"
      ],
      "metadata": {
        "colab": {
          "base_uri": "https://localhost:8080/"
        },
        "id": "ihr85zCbkOpp",
        "outputId": "8ab2ce3c-7511-4e0c-f473-161ff68dec43"
      },
      "execution_count": 47,
      "outputs": [
        {
          "output_type": "execute_result",
          "data": {
            "text/plain": [
              "0.9638976345012444"
            ]
          },
          "metadata": {},
          "execution_count": 47
        }
      ]
    },
    {
      "cell_type": "code",
      "source": [
        "plt.title('Loss during Training vs Test')\n",
        "plt.plot(history3.history['loss'], color='red', label = 'Training loss')\n",
        "plt.plot(history3.history['val_loss'], color='blue', label = 'Training Val loss')\n",
        "plt.legend()\n",
        "plt.show()"
      ],
      "metadata": {
        "colab": {
          "base_uri": "https://localhost:8080/",
          "height": 452
        },
        "id": "I3iqlOaEkYxM",
        "outputId": "839c3697-a793-4b65-fec4-39ea0767078e"
      },
      "execution_count": 48,
      "outputs": [
        {
          "output_type": "display_data",
          "data": {
            "text/plain": [
              "<Figure size 640x480 with 1 Axes>"
            ],
            "image/png": "[encoded data removed]"
          },
          "metadata": {}
        }
      ]
    },
    {
      "cell_type": "code",
      "source": [
        "plt.title('MSE during Training vs Test')\n",
        "plt.plot(history3.history['mse'], color='red', label = 'Training loss')\n",
        "plt.plot(history3.history['val_mse'], color='blue', label = 'Training Val loss')\n",
        "plt.legend()\n",
        "plt.show()"
      ],
      "metadata": {
        "colab": {
          "base_uri": "https://localhost:8080/",
          "height": 452
        },
        "id": "uUYE4WK8khMp",
        "outputId": "1a2d4ffa-4533-474c-ff84-9b8b32f62f47"
      },
      "execution_count": 49,
      "outputs": [
        {
          "output_type": "display_data",
          "data": {
            "text/plain": [
              "<Figure size 640x480 with 1 Axes>"
            ],
            "image/png": "[encoded data removed]"
          },
          "metadata": {}
        }
      ]
    },
    {
      "cell_type": "code",
      "source": [
        "print(f'MAE Score : {tf.keras.metrics.mean_absolute_error(y_test, tf.squeeze(y_preds3))}')\n",
        "print(f'MSE Score : {tf.keras.metrics.mean_squared_error(y_test, tf.squeeze(y_preds3))}')\n",
        "print(f'RMSE Score : {tf.sqrt(tf.keras.metrics.mean_squared_error(y_test, tf.squeeze(y_preds3)))}')"
      ],
      "metadata": {
        "colab": {
          "base_uri": "https://localhost:8080/"
        },
        "id": "jTG2clPHmZcI",
        "outputId": "57a73882-6204-4f36-b523-7a2638a2c6ef"
      },
      "execution_count": 51,
      "outputs": [
        {
          "output_type": "stream",
          "name": "stdout",
          "text": [
            "MAE Score : 0.01814211718738079\n",
            "MSE Score : 0.0005780579522252083\n",
            "RMSE Score : 0.02404283545911312\n"
          ]
        }
      ]
    },
    {
      "cell_type": "markdown",
      "source": [
        "> 🔑 **Note :** As we can say that the model3 is performing way better than model1 and model2, which is proven by all the Evaluation methods  like ```MSE```, ```MAE```, ```RMSE``` and ```R2 Score```"
      ],
      "metadata": {
        "id": "DNlcOzIUk1uF"
      }
    },
    {
      "cell_type": "markdown",
      "source": [
        "## Writing a helper function to help us in making single predictions"
      ],
      "metadata": {
        "id": "ZGb-snRlYK4y"
      }
    },
    {
      "cell_type": "code",
      "source": [
        "def single_prediction(index):\n",
        "  y_true = y_test.iloc[index]\n",
        "  params = []\n",
        "  for param in X_test[index]:\n",
        "    params.append(param)\n",
        "  input_tensor = tf.expand_dims(tf.constant(params), axis=0)\n",
        "  y_preds = model3.predict(input_tensor)\n",
        "  print(f'Y True : {y_true}')\n",
        "  print(f'Y preds : {y_preds}')\n",
        "  print(f'MAE Score : {tf.keras.metrics.mean_absolute_error(y_test, tf.squeeze(y_preds))}')\n",
        "  print(f'MSE Score : {tf.keras.metrics.mean_squared_error(y_test, tf.squeeze(y_preds))}')\n",
        "  print(f'RMSE Score : {tf.sqrt(tf.keras.metrics.mean_squared_error(y_test, tf.squeeze(y_preds)))}')"
      ],
      "metadata": {
        "id": "tgyGk0Xokp5k"
      },
      "execution_count": 67,
      "outputs": []
    },
    {
      "cell_type": "code",
      "source": [
        "single_prediction(index=3)"
      ],
      "metadata": {
        "colab": {
          "base_uri": "https://localhost:8080/"
        },
        "id": "7j-zeUCwmqPi",
        "outputId": "7e49c2b9-977d-48b2-f0fb-8d15a5421bac"
      },
      "execution_count": 69,
      "outputs": [
        {
          "output_type": "stream",
          "name": "stdout",
          "text": [
            "1/1 [==============================] - 0s 20ms/step\n",
            "Y True : 1.361804\n",
            "Y preds : [[1.3556888]]\n",
            "MAE Score : 0.1132097840309143\n",
            "MSE Score : 0.020939718931913376\n",
            "RMSE Score : 0.1447056233882904\n"
          ]
        }
      ]
    },
    {
      "cell_type": "code",
      "source": [
        "single_prediction(index=56)"
      ],
      "metadata": {
        "colab": {
          "base_uri": "https://localhost:8080/"
        },
        "id": "tzFthRZymvBg",
        "outputId": "eb9297e7-f111-426a-f98d-c124cc5d7bc7"
      },
      "execution_count": 70,
      "outputs": [
        {
          "output_type": "stream",
          "name": "stdout",
          "text": [
            "1/1 [==============================] - 0s 27ms/step\n",
            "Y True : 1.084599\n",
            "Y preds : [[1.0962508]]\n",
            "MAE Score : 0.19314086437225342\n",
            "MSE Score : 0.05182255059480667\n",
            "RMSE Score : 0.2276456654071808\n"
          ]
        }
      ]
    },
    {
      "cell_type": "code",
      "source": [
        "single_prediction(index=457)"
      ],
      "metadata": {
        "colab": {
          "base_uri": "https://localhost:8080/"
        },
        "id": "4NTxoJ9toGEH",
        "outputId": "2c0fe33e-e38f-41fa-d7f8-5fe9ae7941d1"
      },
      "execution_count": 72,
      "outputs": [
        {
          "output_type": "stream",
          "name": "stdout",
          "text": [
            "1/1 [==============================] - 0s 61ms/step\n",
            "Y True : 1.129089\n",
            "Y preds : [[1.1047565]]\n",
            "MAE Score : 0.18637052178382874\n",
            "MSE Score : 0.04867570102214813\n",
            "RMSE Score : 0.22062569856643677\n"
          ]
        }
      ]
    },
    {
      "cell_type": "markdown",
      "source": [
        "## Saving the Best Model"
      ],
      "metadata": {
        "id": "cac-rXkQYK7Z"
      }
    },
    {
      "cell_type": "code",
      "source": [
        "model3.save('gold_predictor_model3.h5')"
      ],
      "metadata": {
        "id": "1ryG0luMoO75"
      },
      "execution_count": 74,
      "outputs": []
    }
  ]
}